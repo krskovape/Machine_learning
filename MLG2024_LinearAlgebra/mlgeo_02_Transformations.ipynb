{
 "cells": [
  {
   "cell_type": "markdown",
   "metadata": {},
   "source": [
    "\n",
    "# [ Machine Learning in Geosciences ]\n",
    "\n",
    "**Department of Applied Geoinformatics and Carthography, Charles University** \n",
    "\n",
    "*Lukas Brodsky lukas.brodsky@natur.cuni.cz*\n",
    "\n",
    "*Daniel Bicák bicakd@natur.cuni.cz*"
   ]
  },
  {
   "cell_type": "markdown",
   "metadata": {},
   "source": [
    "# Data Preprocessing"
   ]
  },
  {
   "cell_type": "markdown",
   "metadata": {},
   "source": [
    "This notebook contains;\n",
    "* Data Generation\n",
    "* Data Scaling\n",
    "* Principal Component Analysis\n",
    "* Linear Regression Task"
   ]
  },
  {
   "cell_type": "markdown",
   "metadata": {},
   "source": [
    "### Data Generation"
   ]
  },
  {
   "cell_type": "markdown",
   "metadata": {},
   "source": [
    "This short block of code will generate data for which some preprocessing needs to be done. The data is purely artificial; they do not represent any real phenomena. The dataset contains 6 features. The first 4 features are somewhat correlated, the fifth does not correlate with the rest of the dataset. The last feature is categorical, consisting of two distinct categories. The dependent variable *y* has linear relationships with features. The relationship is represented by the following formula;\n",
    "$$\n",
    "y = 2 + -2x_{1} + 2x_{2} + 3x_{3} + 0.5x_{4} + 3x_{5} + x_{6} + \\varepsilon \\\\\n",
    "\n",
    "\\textrm{if} \\; x_{6} \\; \\textrm{is} \\; \\texttt{'Rural'} \\to  2  \\\\ \n",
    "\\textrm{if} \\; x_{6} \\; \\textrm{is} \\; \\texttt{'Urban'} \\to -5\n",
    "\n",
    "$$\n",
    "\n",
    "where $\\varepsilon$ is random noise sampled from uniform distribution.\n"
   ]
  },
  {
   "cell_type": "code",
   "execution_count": 1,
   "metadata": {},
   "outputs": [
    {
     "name": "stderr",
     "output_type": "stream",
     "text": [
      "C:\\Users\\uzivatel\\AppData\\Local\\Temp\\ipykernel_14268\\2769699095.py:11: RuntimeWarning: covariance is not symmetric positive-semidefinite.\n",
      "  feature1_4 = np.random.multivariate_normal(mean, cov, number_of_samples)+2\n"
     ]
    }
   ],
   "source": [
    "import numpy as np\n",
    "import matplotlib.pyplot as plt\n",
    "import random\n",
    "\n",
    "# parameters for multivariate distribution\n",
    "mean = [0, 0, 0, 0]\n",
    "cov = np.array([[1, 0.8, 0.6, 0.7],[0.8, 1, 0.7, 0.6],[0.6, 0.7, 1, 0.6], [0.8, 0.6, 0.7, 1]])\n",
    "number_of_samples = 500\n",
    "\n",
    "# generate random features with correlation\n",
    "feature1_4 = np.random.multivariate_normal(mean, cov, number_of_samples)+2\n",
    "# generate random uncorrelated features\n",
    "feature5 = np.random.rand(number_of_samples, 1)*3\n",
    "# generate categorical feature\n",
    "feature6 = ['Rural', 'Urban']*int(number_of_samples/2)\n",
    "random.shuffle(feature6)\n",
    "\n",
    "# create a dependent variable y, which has linear relationship with features\n",
    "y = 2 + -2*feature1_4[:, 0] + 2*feature1_4[:, 1] + 3*feature1_4[:, 2] + 0.5*feature1_4[:, 3] + 3*feature5[:, 0]\n",
    "\n",
    "# add categorical variable\n",
    "cat_number = {'Rural':2, 'Urban':-5}\n",
    "cat_number_val = np.array([cat_number[x] for x in feature6])\n",
    "y = y+cat_number_val\n",
    "\n",
    "# add noise to dependent variable \n",
    "# noise has uniform distribution \n",
    "noise = (np.random.rand(500)-0.5)*7\n",
    "y = y + noise\n",
    "\n",
    "# stack continuous features into one array\n",
    "features = np.hstack((feature1_4, feature5))\n",
    "# categorical feature is in the list\n",
    "features_cat = feature6"
   ]
  },
  {
   "cell_type": "code",
   "execution_count": 8,
   "metadata": {},
   "outputs": [
    {
     "data": {
      "text/plain": [
       "(500, 6)"
      ]
     },
     "execution_count": 8,
     "metadata": {},
     "output_type": "execute_result"
    }
   ],
   "source": [
    "features.shape"
   ]
  },
  {
   "cell_type": "code",
   "execution_count": 4,
   "metadata": {},
   "outputs": [
    {
     "data": {
      "text/plain": [
       "array([ 1.13517646e+01,  1.75285679e+01,  9.42134539e+00, -8.24815132e-01,\n",
       "        8.31229761e+00,  1.83823586e+01, -1.84283315e+00,  1.06542543e+01,\n",
       "        1.21553077e+01,  1.97545662e+01,  1.58547012e+01,  7.95641258e+00,\n",
       "        2.40205175e+00,  1.80303928e+01, -7.95512944e-01,  6.80246470e+00,\n",
       "        7.08100015e+00,  3.82853841e+00,  9.66721923e+00,  1.94711143e+01,\n",
       "        5.55849058e+00,  1.96492237e+01,  8.29507176e+00,  6.45343117e+00,\n",
       "        1.69744312e+01,  1.73611008e+00,  8.88641922e+00,  1.39186216e+01,\n",
       "        8.20716226e+00,  8.25240176e+00,  1.68387611e+01,  1.81799550e+01,\n",
       "        9.02117818e+00,  1.46523313e+01,  9.92023426e+00,  1.41515950e+01,\n",
       "        1.18292512e+01,  2.42971277e+01,  1.27742123e+01,  7.89132895e+00,\n",
       "        1.15520642e+01,  1.56932849e+01,  4.94217721e+00,  9.81023273e+00,\n",
       "        4.04452765e+00,  6.20438716e+00,  1.43519869e+01,  1.49678982e+01,\n",
       "        2.15433522e+01,  1.46448694e+01,  1.71593212e+01,  1.14727472e+01,\n",
       "        1.11581551e+01,  1.15718303e+01, -8.32144486e-01,  4.42123354e+00,\n",
       "        9.80645734e+00,  1.88586510e+01,  1.72234803e+01,  1.85354498e+01,\n",
       "        1.53727159e+01,  1.22215241e+01,  8.04019908e+00,  1.23635267e+01,\n",
       "        1.22987110e+01,  2.01415081e+01,  1.36402956e+01,  5.50454403e+00,\n",
       "        1.17937542e+01,  1.03864281e+00,  1.48281343e+01,  1.65402421e+00,\n",
       "        1.49724094e+01,  6.28887715e+00,  1.10382237e+01,  1.01301995e+01,\n",
       "        4.80558578e+00,  1.36034164e+01,  3.77639250e+00,  9.71777606e+00,\n",
       "        1.03778502e+01,  1.89915080e+01,  1.36750927e+01,  1.24093840e+01,\n",
       "        1.71292001e+01,  1.48030574e+01,  1.07938358e+01,  7.51938731e+00,\n",
       "        1.31668924e+01,  2.52811875e+01,  2.22880075e+01,  3.31817781e+00,\n",
       "        1.41737705e+01, -2.94508743e-01,  8.43898785e+00,  1.95048736e+01,\n",
       "        4.08639933e+00,  1.61611460e+01,  9.77370272e+00,  5.02387982e+00,\n",
       "        7.84338925e+00,  1.12901555e+01,  1.49204238e+01,  1.02751026e+01,\n",
       "        1.39704568e+01,  1.45817990e+01,  3.85449347e+00,  6.13263402e+00,\n",
       "        1.44922049e+01,  1.39759790e+01,  5.13901077e+00,  1.48301413e+01,\n",
       "        1.80110120e+01,  1.54258926e+01,  4.61676784e+00,  7.56193276e+00,\n",
       "        2.14515152e+01,  1.57942649e+01,  1.07357948e+01,  2.01071824e+01,\n",
       "        1.64075752e+01,  9.65935913e+00,  1.15070664e+01,  7.51308470e+00,\n",
       "        2.07463456e+01,  4.15534343e+00,  3.33528298e+00,  4.17394285e+00,\n",
       "        1.30674378e+01,  2.15064008e+01,  1.39786384e+01,  1.38289435e+01,\n",
       "        1.56167533e+01,  1.20290983e+01,  4.30888342e+00,  1.14553700e+01,\n",
       "        1.48577482e+01,  8.13272346e+00,  2.19427577e+01,  1.23577194e+01,\n",
       "        1.68885959e+01,  1.01102065e+01,  1.78764563e+01,  9.00962048e+00,\n",
       "        8.36978913e+00,  2.54812588e+01,  2.02157624e+01,  6.31501274e+00,\n",
       "        1.37198681e+01,  7.57304692e+00,  4.01265112e+00,  1.83458375e+01,\n",
       "        9.57287963e+00,  1.43461525e+01,  1.52485446e+01,  4.56974658e+00,\n",
       "        1.27665540e+01,  8.29136976e+00,  8.10592730e+00,  1.34231391e+00,\n",
       "        4.37419814e+00, -1.54435885e+00, -1.32829947e+00,  1.08993881e+01,\n",
       "        2.33792620e+01,  6.55412473e+00,  6.04238410e+00,  1.29822261e+01,\n",
       "        1.67969700e+01,  1.56470249e+01,  1.37908428e+01,  1.89526670e+01,\n",
       "        9.21689394e+00,  1.53034228e+01,  5.79845466e+00,  1.92133134e+01,\n",
       "        1.40262879e+01,  2.16295808e+01,  1.24825635e+01,  1.60195434e+01,\n",
       "        3.87796662e+00,  8.16735939e+00,  1.47605901e+01,  1.19754704e+01,\n",
       "        1.80998586e+01,  1.72322524e+01,  1.27763234e+01,  1.62409463e+01,\n",
       "        1.90925127e+01,  2.47229021e+00,  1.30110918e+01,  2.03096540e+01,\n",
       "       -3.57981506e+00,  1.26146751e+01,  5.04657175e+00,  2.21382210e+01,\n",
       "        1.59546912e+01,  6.98263392e+00,  1.99292213e+01,  1.09968428e+00,\n",
       "        4.32563959e-01,  1.28094508e+00,  1.40326782e+01,  1.07243191e+01,\n",
       "        1.67499890e+00,  1.19620468e+01,  2.02680948e+01,  1.85140267e+01,\n",
       "        1.80949337e+01,  5.28333345e+00,  1.50925895e+01,  1.46635792e+01,\n",
       "        9.39089632e+00,  9.92826120e+00,  7.27671221e+00,  1.95100448e+01,\n",
       "        3.72968392e+00,  1.72861272e+01,  1.52871566e+01,  7.24917376e+00,\n",
       "       -2.29947757e+00,  1.46134381e+01,  1.85101242e+01,  6.77662289e+00,\n",
       "        1.10485822e+01,  1.53564803e+01,  1.34712885e+01,  7.50978625e+00,\n",
       "        1.11844906e+01,  1.26549013e+01,  1.18155583e+01,  2.52202522e+01,\n",
       "       -6.52218999e-01,  7.47010982e-01,  8.04101624e+00,  2.50518362e+01,\n",
       "        1.89830359e+01,  9.67213999e+00,  1.00989309e+01,  1.35587915e+01,\n",
       "        2.27209791e+01,  1.54922013e+01,  8.81080286e+00,  7.28264692e+00,\n",
       "        1.15957820e+01,  2.25884396e+01,  2.25312765e+01,  4.15162660e+00,\n",
       "        1.89019900e+01,  1.35757166e+01,  5.21088213e+00,  5.41541115e+00,\n",
       "        2.70931579e+01,  4.31009997e+00,  9.27978840e+00,  4.64647917e+00,\n",
       "        2.24763009e+01,  6.31132213e-01,  1.01769905e+01,  1.19076129e+01,\n",
       "        1.19251684e+01,  7.73548966e+00,  2.10309757e+01,  1.63079314e+01,\n",
       "        1.07399703e+01,  2.27675864e+01,  4.66685632e+00,  1.97564748e+01,\n",
       "        1.28676362e+01,  1.05533234e+01,  3.03017616e+00,  5.13321222e+00,\n",
       "        1.36953131e+01,  1.03546913e+01,  2.06448237e+01,  7.09613967e+00,\n",
       "        1.12325661e+01,  1.17879000e+01,  1.55004288e+01,  1.44599284e+01,\n",
       "        1.80950490e+01,  2.11720500e+01,  1.71820852e+01,  1.04057072e+01,\n",
       "        1.47518872e+01, -5.86599699e+00,  4.18479180e+00,  1.39683461e+01,\n",
       "        2.22979197e+01,  1.48010288e+01,  6.47315627e+00,  4.71672623e+00,\n",
       "        1.62491229e+01,  1.85654925e+01,  1.90216109e+01,  1.33489540e+01,\n",
       "        8.57034507e+00,  1.82771403e+01,  2.57287681e+01,  8.59014362e+00,\n",
       "        1.45680503e+01,  4.37656067e+00,  8.09482843e+00,  1.96182781e+01,\n",
       "        1.42856187e+01,  8.96469521e+00,  9.07271600e+00,  4.26857666e+00,\n",
       "        1.11421797e+01,  8.64692679e+00,  1.19039145e+01,  2.00758011e+01,\n",
       "        1.85105716e+01,  1.47825744e+01,  4.42896230e+00,  6.73106843e+00,\n",
       "        2.09731990e+01,  6.16539800e+00,  1.14346895e+01,  1.77704974e+01,\n",
       "        1.17845239e+01,  3.43501154e+00,  9.88819608e+00,  1.45788515e+01,\n",
       "        3.52854443e+00,  1.42236440e+01,  1.40002180e+01,  3.83092311e+00,\n",
       "        1.56199698e+01,  6.36873814e+00,  2.66405443e+01,  1.59163264e+01,\n",
       "        8.32509343e+00,  9.27038163e+00,  2.02668208e+01,  1.51411798e+01,\n",
       "        1.05824629e+01,  7.94247027e+00,  2.25381164e+01,  2.09350071e+01,\n",
       "        2.00225210e+01,  6.24150185e+00,  2.06909859e+01,  1.18211646e+01,\n",
       "        1.30899735e+01,  9.05623715e+00,  1.62412002e+01,  1.27567231e+01,\n",
       "        1.85873835e+01,  1.73332069e+01,  2.47551518e+01,  1.18241362e+01,\n",
       "        1.47902363e+01,  3.85784663e+00,  7.80539479e+00,  9.32269011e+00,\n",
       "        5.14599396e+00,  1.32954701e+01,  1.51112620e+01,  8.73860654e+00,\n",
       "        6.00178492e+00,  7.49548994e+00,  6.76230513e+00,  1.29924938e+01,\n",
       "        2.13318655e+01,  1.87188750e+01,  1.11925658e+01,  6.94754170e+00,\n",
       "        1.47720651e+01, -3.84172426e+00,  4.88687247e+00,  1.77759683e+01,\n",
       "        1.31874090e+01,  7.02411866e+00,  8.38559309e+00,  1.37841866e+01,\n",
       "        2.11315477e+01,  5.62168202e+00,  1.39916078e+01,  8.54648871e+00,\n",
       "        1.49374156e+01,  8.89663270e+00,  1.31256981e+01,  1.09794173e+01,\n",
       "        1.72779553e+01,  2.37213815e+01, -1.97804691e+00,  1.74182456e+01,\n",
       "        3.40547312e+00,  8.47807004e+00,  1.49163091e+01,  1.20742240e+01,\n",
       "        1.06948491e+01,  1.07407004e+01,  1.91935842e+01,  1.49186893e+01,\n",
       "        1.14463093e+01,  8.23497841e+00,  1.37047983e+01,  9.40195183e+00,\n",
       "        6.33782725e+00,  8.75307425e+00,  1.14114403e+01,  1.64810434e+01,\n",
       "        8.28105990e+00,  1.01357431e+01, -3.33074996e+00,  2.00016471e+00,\n",
       "        1.25447191e+01,  2.01285077e+01,  1.81185157e+01,  1.67494640e+01,\n",
       "        1.05366024e+01,  1.16977918e+01,  1.24005842e+01,  9.37793103e+00,\n",
       "        1.70551258e+01,  1.30132133e+01,  1.58080512e+01,  1.66238923e+01,\n",
       "        1.71104220e+01,  1.78311454e+01,  1.55723832e+01,  1.35108049e+01,\n",
       "        1.20129288e+01, -9.51195141e-01,  1.09932552e+01,  8.03169848e+00,\n",
       "        1.55902231e+01,  1.38305618e+01,  4.73391267e+00,  4.87633466e+00,\n",
       "        2.73763472e+00, -3.68410589e+00,  1.14848446e+01,  1.01255904e+01,\n",
       "        9.02995712e+00,  2.11355640e+01,  1.56243754e+01,  8.29495489e+00,\n",
       "        2.28131347e+00,  1.79518853e+00,  1.23025984e+01,  2.57318595e+01,\n",
       "        1.52733331e+01,  1.83557904e+01,  5.27888698e+00,  9.19159171e+00,\n",
       "        1.98279326e+01,  1.60643873e+01,  1.01288098e+01,  2.53120009e+01,\n",
       "        1.57406594e+01,  1.61957660e+01,  1.24775022e+01,  2.06661315e+01,\n",
       "        9.16169034e+00,  2.37312526e+01,  1.66119549e+01,  5.75156427e+00,\n",
       "        2.60413008e+00,  1.65303918e+01,  1.79766645e+01,  1.36318122e+01,\n",
       "        1.05113091e+01,  7.40630064e+00,  1.10437572e+01,  1.79604244e+01,\n",
       "        7.96472491e+00,  1.51452931e+01,  2.51116111e+01,  2.06428074e+01,\n",
       "        2.17440691e+00,  1.39314762e+01,  4.76464002e+00,  2.09623478e+01,\n",
       "        6.24484300e+00,  3.26899595e+00,  9.96100706e+00,  6.67575311e+00,\n",
       "        1.93398581e+01,  1.31554431e+01,  7.36359932e+00,  1.37866861e+01,\n",
       "        2.94830242e+00,  1.69695525e+01,  1.72282588e+01,  1.97886058e+01,\n",
       "        5.34872336e+00,  1.54490173e+01, -1.08014261e-03,  7.85614571e+00,\n",
       "        1.27583484e+01,  2.03401572e+01,  7.90075337e+00, -1.52605729e+00,\n",
       "        1.98013089e+01,  2.62845273e+01,  8.43318137e+00,  2.02471249e+01])"
      ]
     },
     "execution_count": 4,
     "metadata": {},
     "output_type": "execute_result"
    }
   ],
   "source": [
    "y"
   ]
  },
  {
   "cell_type": "code",
   "execution_count": 28,
   "metadata": {},
   "outputs": [
    {
     "data": {
      "text/plain": [
       "array([[3.74018054, 3.18262096, 3.71951095, ..., 1.81694362, 1.        ,\n",
       "        1.        ],\n",
       "       [1.81602083, 2.03166652, 1.59586146, ..., 2.3565534 , 0.        ,\n",
       "        0.        ],\n",
       "       [2.68009213, 2.37094881, 1.05168684, ..., 1.36946871, 0.        ,\n",
       "        0.        ],\n",
       "       ...,\n",
       "       [2.95181603, 3.434123  , 4.36767032, ..., 2.54054534, 0.        ,\n",
       "        0.        ],\n",
       "       [1.24733364, 2.2966913 , 1.14343288, ..., 0.30864449, 0.        ,\n",
       "        0.        ],\n",
       "       [1.77094139, 1.92530153, 1.81841668, ..., 2.63064176, 0.        ,\n",
       "        0.        ]])"
      ]
     },
     "execution_count": 28,
     "metadata": {},
     "output_type": "execute_result"
    }
   ],
   "source": [
    "features"
   ]
  },
  {
   "cell_type": "markdown",
   "metadata": {},
   "source": [
    "## Encoding categorical values"
   ]
  },
  {
   "cell_type": "markdown",
   "metadata": {},
   "source": [
    "Feature6 is categorical, use one-hot encoding to transform the feature."
   ]
  },
  {
   "cell_type": "code",
   "execution_count": 10,
   "metadata": {},
   "outputs": [],
   "source": [
    "# try to set 'Rural' value to 1 and 'Urban' to 0\n",
    "# use simple loop or list comprehension\n",
    "# loop\n",
    "for value in features_cat:\n",
    "\n",
    "    if value == \"Rural\":\n",
    "        value = 1\n",
    "    elif value == \"Urban\":\n",
    "        value = 0\n",
    "\n",
    "# list comprehension \n",
    "cat_number = {'Rural':1, 'Urban':0}\n",
    "x = [x for x in features_cat]\n",
    "\n",
    "# or try to find a better way"
   ]
  },
  {
   "cell_type": "code",
   "execution_count": 11,
   "metadata": {},
   "outputs": [],
   "source": [
    "# you can also use scikit-learn encoder\n",
    "from sklearn.preprocessing import LabelEncoder\n",
    "\n",
    "classes = ['Rural', 'Urban']\n",
    "\n",
    "le = LabelEncoder()\n",
    "le.fit(classes)\n",
    "feature6 = le.transform(features_cat)"
   ]
  },
  {
   "cell_type": "code",
   "execution_count": 12,
   "metadata": {},
   "outputs": [],
   "source": [
    "# transform the encoded list into array\n",
    "# scikit learn LabelEncoder transformed list already\n",
    "\n",
    "if type(feature6) == list:\n",
    "\n",
    "    feature6 = np.array(feature6)\n",
    "\n",
    "features = np.hstack((features, feature6.reshape(-1,1)))"
   ]
  },
  {
   "cell_type": "markdown",
   "metadata": {},
   "source": [
    "## Data exploration"
   ]
  },
  {
   "cell_type": "markdown",
   "metadata": {},
   "source": [
    "Visual exploration of data is a critical step in the process of building machine learning models for several reasons. \n",
    "* Firstly, it allows data scientists to gain an intuitive understanding of the underlying structure and patterns within the data, which can inform feature selection and the choice of appropriate models. Visualizations such as scatter plots, histograms, and box plots can reveal distributions, outliers, and anomalies that may affect model performance. \n",
    "* Secondly, by identifying relationships and correlations between variables, practitioners can anticipate how different features might interact and influence predictions, potentially leading to the engineering of more informative features. Thirdly, visual exploration can help in diagnosing issues with data quality, such as missing values or incorrect data entries, which need to be addressed before training models. \n",
    "* Lastly, visualizations make it easier to communicate findings and insights to stakeholders who may not have a technical background, facilitating better collaboration and decision-making. In summary, visual data exploration is an indispensable tool that enhances the understanding, preparation, and effective use of data in machine learning.\n",
    "\n",
    "Do a simple visual exploration of the dataset."
   ]
  },
  {
   "cell_type": "code",
   "execution_count": 13,
   "metadata": {},
   "outputs": [
    {
     "data": {
      "text/plain": [
       "<Axes: title={'center': 'Correlation plot'}>"
      ]
     },
     "execution_count": 13,
     "metadata": {},
     "output_type": "execute_result"
    },
    {
     "data": {
      "image/png": "[encoded data removed]",
      "text/plain": [
       "<Figure size 1100x900 with 2 Axes>"
      ]
     },
     "metadata": {},
     "output_type": "display_data"
    }
   ],
   "source": [
    "# seaborn library can do interesting visulization\n",
    "import seaborn as sns\n",
    "\n",
    "# for example correlation plot\n",
    "# calculate correlation\n",
    "correlation = np.corrcoef(features.T)\n",
    "# create figure\n",
    "figure, ax = plt.subplots(figsize=(11, 9))\n",
    "\n",
    "feature_labels = ['Feature1', 'Feature2', 'Feature3', 'Feature4', 'Feature5', 'Feature6']\n",
    "mask = np.triu(np.ones_like(correlation, dtype=bool))\n",
    "cmap = sns.diverging_palette(230, 20, as_cmap=True)\n",
    "ax.set_title('Correlation plot')\n",
    "\n",
    "# heat map\n",
    "sns.heatmap(correlation, mask=mask, cmap=cmap, center=0, square=True, linewidths=.5, \n",
    "            xticklabels=feature_labels, yticklabels=feature_labels)\n",
    "\n",
    "# you can find demo here\n",
    "# https://seaborn.pydata.org/examples/many_pairwise_correlations.html"
   ]
  },
  {
   "cell_type": "code",
   "execution_count": 14,
   "metadata": {},
   "outputs": [
    {
     "data": {
      "text/plain": [
       "(array([ 5., 15., 32., 66., 90., 93., 92., 64., 30., 13.]),\n",
       " array([-5.86599699, -2.57008151,  0.72583398,  4.02174946,  7.31766494,\n",
       "        10.61358043, 13.90949591, 17.2054114 , 20.50132688, 23.79724237,\n",
       "        27.09315785]),\n",
       " <BarContainer object of 10 artists>)"
      ]
     },
     "execution_count": 14,
     "metadata": {},
     "output_type": "execute_result"
    },
    {
     "data": {
      "image/png": "[encoded data removed]",
      "text/plain": [
       "<Figure size 640x480 with 1 Axes>"
      ]
     },
     "metadata": {},
     "output_type": "display_data"
    }
   ],
   "source": [
    "# do a simple visual exploration with matplotlib\n",
    "# show a histogram for dependet variable y\n",
    "\n",
    "plt.hist(y)"
   ]
  },
  {
   "cell_type": "code",
   "execution_count": 22,
   "metadata": {},
   "outputs": [
    {
     "data": {
      "image/png": "[encoded data removed]",
      "text/plain": [
       "<Figure size 640x480 with 3 Axes>"
      ]
     },
     "metadata": {},
     "output_type": "display_data"
    }
   ],
   "source": [
    "# scatter plot for feature1 with feature2 and feature3 \n",
    "\n",
    "plt.subplot(1,3,1)\n",
    "plt.scatter(features[:,0],features[:,1])\n",
    "plt.xlabel(\"feature1\")\n",
    "plt.ylabel(\"feature2\")\n",
    "plt.subplot(1,3,2)\n",
    "plt.scatter(features[:,0],features[:,2])\n",
    "plt.xlabel(\"feature1\")\n",
    "plt.ylabel(\"feature3\")\n",
    "plt.subplot(1,3,3)\n",
    "plt.scatter(features[:,1],features[:,2])\n",
    "plt.xlabel(\"feature2\")\n",
    "plt.ylabel(\"feature3\")\n",
    "plt.tight_layout()"
   ]
  },
  {
   "cell_type": "code",
   "execution_count": 24,
   "metadata": {},
   "outputs": [
    {
     "data": {
      "text/plain": [
       "Text(0, 0.5, 'feature2')"
      ]
     },
     "execution_count": 24,
     "metadata": {},
     "output_type": "execute_result"
    },
    {
     "data": {
      "image/png": "[encoded data removed]",
      "text/plain": [
       "<Figure size 640x480 with 1 Axes>"
      ]
     },
     "metadata": {},
     "output_type": "display_data"
    }
   ],
   "source": [
    "# scatter plot for dependent variable and features of your choice\n",
    "feature = 1\n",
    "plt.scatter(y, features[:,feature])\n",
    "plt.xlabel(\"independent variable\")\n",
    "plt.ylabel(f\"feature{feature+1}\")"
   ]
  },
  {
   "cell_type": "markdown",
   "metadata": {},
   "source": [
    "## Data Scaling"
   ]
  },
  {
   "cell_type": "code",
   "execution_count": 35,
   "metadata": {},
   "outputs": [],
   "source": [
    "import numpy as np"
   ]
  },
  {
   "cell_type": "code",
   "execution_count": 44,
   "metadata": {},
   "outputs": [],
   "source": [
    "# write a min-max scaling function\n",
    "\n",
    "def min_max_scaling(features, min=0, max=1):\n",
    "    fmin = features.min(axis=0)\n",
    "    fmax = features.max(axis=0)\n",
    "\n",
    "    \n",
    "    scaled_features = fmin + (((features-min)*(fmax-fmin)) / (max-min))\n",
    "    \n",
    "    return scaled_features"
   ]
  },
  {
   "cell_type": "code",
   "execution_count": 45,
   "metadata": {},
   "outputs": [],
   "source": [
    "# write a standard scaling function\n",
    "\n",
    "def standard_scaling(features):\n",
    "    fmean = np.mean(features, axis=0)\n",
    "    fstd = np.std(features, axis=0)\n",
    "\n",
    "    scaled_features = (features - fmean) / fstd\n",
    "    \n",
    "    return scaled_features"
   ]
  },
  {
   "cell_type": "code",
   "execution_count": 46,
   "metadata": {},
   "outputs": [],
   "source": [
    "# scale all features\n",
    "min_max_features = min_max_scaling(features)\n",
    "std_features = standard_scaling(features)"
   ]
  },
  {
   "cell_type": "code",
   "execution_count": 42,
   "metadata": {},
   "outputs": [],
   "source": [
    "# compare results to scikit-learn scalers\n",
    "# MinMax scaler\n",
    "# https://scikit-learn.org/stable/modules/generated/sklearn.preprocessing.MinMaxScaler.html#sklearn.preprocessing.MinMaxScaler\n",
    "\n",
    "from sklearn.preprocessing import MinMaxScaler\n",
    "min_max_scaler = MinMaxScaler()\n",
    "min_max_scaler.fit(features)\n",
    "\n",
    "features_min_max_scaled = min_max_scaler.transform(features)\n",
    "\n",
    "min_max_scaler = MinMaxScaler()\n",
    "min_max_scaler.fit(features)\n",
    "\n",
    "features_min_max_scaled = min_max_scaler.transform(features)\n",
    "\n",
    "# Standard Scaler\n",
    "# https://scikit-learn.org/stable/modules/generated/sklearn.preprocessing.StandardScaler.html\n",
    "\n",
    "from sklearn.preprocessing import StandardScaler\n",
    "std_scaler = StandardScaler()\n",
    "std_scaler.fit(features)\n",
    "\n",
    "features_standard_scaled = std_scaler.transform(features)"
   ]
  },
  {
   "cell_type": "code",
   "execution_count": 47,
   "metadata": {},
   "outputs": [
    {
     "name": "stdout",
     "output_type": "stream",
     "text": [
      "min_max: [[22.24340559 16.55409657 21.12361445 ...  5.43441319  1.\n",
      "   1.        ]\n",
      " [10.07313221 10.27233191  8.64001086 ...  7.04572098  0.\n",
      "   0.        ]\n",
      " [15.53836663 12.12409202  5.44114948 ...  4.09822577  0.\n",
      "   0.        ]\n",
      " ...\n",
      " [17.25701511 17.92676312 24.93373692 ...  7.59513214  0.\n",
      "   0.        ]\n",
      " [ 6.47619663 11.71880387  5.98046691 ...  0.93053986  0.\n",
      "   0.        ]\n",
      " [ 9.78800563  9.69180519  9.9482734  ...  7.86416555  0.\n",
      "   0.        ]]\n",
      "min max scaler: [[0.81476062 0.73267893 0.75881012 ... 0.60549165 1.         1.        ]\n",
      " [0.51054473 0.52179931 0.39754528 ... 0.78620121 0.         0.        ]\n",
      " [0.6471572  0.58396313 0.30497296 ... 0.45563708 0.         0.        ]\n",
      " ...\n",
      " [0.69011763 0.77875952 0.86907182 ... 0.84781815 0.         0.        ]\n",
      " [0.42063344 0.57035755 0.32058034 ... 0.10037837 0.         0.        ]\n",
      " [0.50341752 0.50231096 0.43540528 ... 0.87799048 0.         0.        ]]\n",
      "std: [[ 1.65895906  1.17424312  1.67385518 ...  0.37236324  1.\n",
      "   1.        ]\n",
      " [-0.22703497 -0.00853483 -0.3862576  ...  1.00430609 -1.\n",
      "  -1.        ]\n",
      " [ 0.61989748  0.34012851 -0.91415126 ... -0.15167946 -1.\n",
      "  -1.        ]\n",
      " ...\n",
      " [ 0.88623174  1.43269911  2.3026225  ...  1.21978104 -1.\n",
      "  -1.        ]\n",
      " [-0.78444225  0.2638178  -0.82515014 ... -1.39402216 -1.\n",
      "  -1.        ]\n",
      " [-0.27122026 -0.11784077 -0.17036094 ...  1.32529393 -1.\n",
      "  -1.        ]]\n",
      "std scaler: [[ 1.65895906  1.17424312  1.67385518 ...  0.37236324  1.\n",
      "   1.        ]\n",
      " [-0.22703497 -0.00853483 -0.3862576  ...  1.00430609 -1.\n",
      "  -1.        ]\n",
      " [ 0.61989748  0.34012851 -0.91415126 ... -0.15167946 -1.\n",
      "  -1.        ]\n",
      " ...\n",
      " [ 0.88623174  1.43269911  2.3026225  ...  1.21978104 -1.\n",
      "  -1.        ]\n",
      " [-0.78444225  0.2638178  -0.82515014 ... -1.39402216 -1.\n",
      "  -1.        ]\n",
      " [-0.27122026 -0.11784077 -0.17036094 ...  1.32529393 -1.\n",
      "  -1.        ]]\n"
     ]
    }
   ],
   "source": [
    "print(f\"min_max: {min_max_features}\")\n",
    "print(f\"min max scaler: {features_min_max_scaled}\")\n",
    "print(f\"std: {std_features}\")\n",
    "print(f\"std scaler: {features_standard_scaled}\")"
   ]
  },
  {
   "cell_type": "markdown",
   "metadata": {},
   "source": [
    "## Principal Component Analysis"
   ]
  },
  {
   "cell_type": "code",
   "execution_count": 51,
   "metadata": {},
   "outputs": [],
   "source": [
    "# select data, which are suitable for transformation\n",
    "\n",
    "features_pca = features[:, ]\n",
    "\n",
    "# 1.\n",
    "# if data are not scaled, scale them with standard scaling\n",
    "features_pca_scaled = std_scaler.transform(features_pca)\n",
    "\n",
    "# 2.\n",
    "# calculate the covariance matrix\n",
    "# use numpy cov function or multiplication according to formula\n",
    "# https://numpy.org/doc/stable/reference/generated/numpy.cov.html\n",
    "\n",
    "cov_matrix = np.cov(features_pca_scaled.T)\n",
    "\n",
    "# 3.\n",
    "# calculate eigenvectors and eigen values \n",
    "# https://numpy.org/doc/stable/reference/generated/numpy.linalg.eig.html \n",
    "\n",
    "eigenvalues, eigenvectors = np.linalg.eig(cov_matrix)\n",
    "\n",
    "# 4. \n",
    "# \n",
    "# \n",
    "\n",
    "idx = eigenvalues.argsort()[::-1]\n",
    "eigenvalues = eigenvalues[idx]\n",
    "eigenvectors = eigenvectors[:, idx]\n",
    "\n",
    "\n",
    "# 5.\n",
    "# select top k eigenvectors (principal components)\n"
   ]
  },
  {
   "cell_type": "code",
   "execution_count": 49,
   "metadata": {},
   "outputs": [
    {
     "data": {
      "text/plain": [
       "array([ 2.06408625e+02+0.00000000e+00j,  9.40467696e+01+0.00000000e+00j,\n",
       "        3.32175951e+01+0.00000000e+00j,  3.08751376e+01+0.00000000e+00j,\n",
       "        1.03027808e+01+0.00000000e+00j,  7.65788355e-15+0.00000000e+00j,\n",
       "        5.96422835e-15+1.67667821e-15j,  5.96422835e-15-1.67667821e-15j,\n",
       "        5.88350547e-15+4.67454670e-15j,  5.88350547e-15-4.67454670e-15j,\n",
       "        5.82325151e-15+3.76120877e-15j,  5.82325151e-15-3.76120877e-15j,\n",
       "        4.15725052e-15+8.32906074e-16j,  4.15725052e-15-8.32906074e-16j,\n",
       "        4.01795321e-15+5.18728621e-15j,  4.01795321e-15-5.18728621e-15j,\n",
       "        3.18794083e-15+0.00000000e+00j,  3.15190034e-15+6.27326307e-15j,\n",
       "        3.15190034e-15-6.27326307e-15j,  3.07186621e-15+4.07151356e-16j,\n",
       "        3.07186621e-15-4.07151356e-16j,  3.04675387e-15+1.58559335e-15j,\n",
       "        3.04675387e-15-1.58559335e-15j,  2.88948730e-15+0.00000000e+00j,\n",
       "        2.68919218e-15+0.00000000e+00j,  2.59135840e-15+6.20742606e-16j,\n",
       "        2.59135840e-15-6.20742606e-16j,  2.56100314e-15+2.03376574e-16j,\n",
       "        2.56100314e-15-2.03376574e-16j,  2.33784871e-15+4.83160634e-16j,\n",
       "        2.33784871e-15-4.83160634e-16j,  2.32734476e-15+0.00000000e+00j,\n",
       "        2.27309206e-15+6.86137311e-16j,  2.27309206e-15-6.86137311e-16j,\n",
       "        2.22146806e-15+8.70271866e-16j,  2.22146806e-15-8.70271866e-16j,\n",
       "        2.12182686e-15+0.00000000e+00j,  2.12143014e-15+1.53951817e-16j,\n",
       "        2.12143014e-15-1.53951817e-16j,  2.02335345e-15+6.19478369e-15j,\n",
       "        2.02335345e-15-6.19478369e-15j,  2.00547753e-15+7.54713230e-16j,\n",
       "        2.00547753e-15-7.54713230e-16j,  1.99884907e-15+1.37470290e-15j,\n",
       "        1.99884907e-15-1.37470290e-15j,  1.95248564e-15+0.00000000e+00j,\n",
       "        1.93856667e-15+1.56944729e-15j,  1.93856667e-15-1.56944729e-15j,\n",
       "        1.93741945e-15+2.41119881e-16j,  1.93741945e-15-2.41119881e-16j,\n",
       "        1.88873485e-15+5.13981197e-16j,  1.88873485e-15-5.13981197e-16j,\n",
       "        1.80899932e-15+7.74340613e-16j,  1.80899932e-15-7.74340613e-16j,\n",
       "        1.75223732e-15+1.02542825e-15j,  1.75223732e-15-1.02542825e-15j,\n",
       "        1.65716391e-15+1.07280477e-16j,  1.65716391e-15-1.07280477e-16j,\n",
       "        1.61139283e-15+1.71391910e-15j,  1.61139283e-15-1.71391910e-15j,\n",
       "        1.60116000e-15+6.03901253e-16j,  1.60116000e-15-6.03901253e-16j,\n",
       "        1.57036211e-15+5.98235458e-16j,  1.57036211e-15-5.98235458e-16j,\n",
       "        1.53005529e-15+9.70629621e-16j,  1.53005529e-15-9.70629621e-16j,\n",
       "        1.51495166e-15+0.00000000e+00j,  1.49602189e-15+1.96606416e-16j,\n",
       "        1.49602189e-15-1.96606416e-16j,  1.47980199e-15+1.24577260e-15j,\n",
       "        1.47980199e-15-1.24577260e-15j,  1.47086456e-15+8.04502814e-16j,\n",
       "        1.47086456e-15-8.04502814e-16j,  1.46703509e-15+0.00000000e+00j,\n",
       "        1.37952516e-15+3.39293920e-16j,  1.37952516e-15-3.39293920e-16j,\n",
       "        1.35880732e-15+0.00000000e+00j,  1.27005124e-15+1.30762412e-15j,\n",
       "        1.27005124e-15-1.30762412e-15j,  1.26324403e-15+3.15240223e-16j,\n",
       "        1.26324403e-15-3.15240223e-16j,  1.23978312e-15+0.00000000e+00j,\n",
       "        1.22571279e-15+9.02116932e-16j,  1.22571279e-15-9.02116932e-16j,\n",
       "        1.16731332e-15+2.49680155e-16j,  1.16731332e-15-2.49680155e-16j,\n",
       "        1.15885731e-15+6.81216818e-16j,  1.15885731e-15-6.81216818e-16j,\n",
       "        1.13853661e-15+1.58058412e-15j,  1.13853661e-15-1.58058412e-15j,\n",
       "        1.13443599e-15+4.19253830e-16j,  1.13443599e-15-4.19253830e-16j,\n",
       "        1.12072555e-15+5.63799139e-17j,  1.12072555e-15-5.63799139e-17j,\n",
       "        1.09445028e-15+2.15397809e-15j,  1.09445028e-15-2.15397809e-15j,\n",
       "        1.06737200e-15+0.00000000e+00j,  1.05526481e-15+1.06256281e-15j,\n",
       "        1.05526481e-15-1.06256281e-15j,  9.93098961e-16+4.92103773e-16j,\n",
       "        9.93098961e-16-4.92103773e-16j,  9.71803401e-16+4.97018241e-17j,\n",
       "        9.71803401e-16-4.97018241e-17j,  9.64900510e-16+7.73867835e-16j,\n",
       "        9.64900510e-16-7.73867835e-16j,  9.61751004e-16+1.71023168e-15j,\n",
       "        9.61751004e-16-1.71023168e-15j,  9.29591203e-16+2.28155913e-16j,\n",
       "        9.29591203e-16-2.28155913e-16j,  9.10721838e-16+1.18777794e-15j,\n",
       "        9.10721838e-16-1.18777794e-15j,  9.10387996e-16+6.52654814e-16j,\n",
       "        9.10387996e-16-6.52654814e-16j,  8.90873784e-16+9.96905017e-16j,\n",
       "        8.90873784e-16-9.96905017e-16j,  8.84146973e-16+0.00000000e+00j,\n",
       "        8.79462205e-16+4.03539084e-16j,  8.79462205e-16-4.03539084e-16j,\n",
       "        8.47138073e-16+1.61152023e-16j,  8.47138073e-16-1.61152023e-16j,\n",
       "        8.35445677e-16+5.64314563e-16j,  8.35445677e-16-5.64314563e-16j,\n",
       "        8.24061384e-16+8.13156686e-16j,  8.24061384e-16-8.13156686e-16j,\n",
       "        8.16015779e-16+5.80552358e-17j,  8.16015779e-16-5.80552358e-17j,\n",
       "        8.04460632e-16+2.69430662e-16j,  8.04460632e-16-2.69430662e-16j,\n",
       "        8.02474297e-16+4.73677155e-16j,  8.02474297e-16-4.73677155e-16j,\n",
       "        7.48734141e-16+3.71958719e-16j,  7.48734141e-16-3.71958719e-16j,\n",
       "        7.20210320e-16+1.23858633e-15j,  7.20210320e-16-1.23858633e-15j,\n",
       "        6.72265670e-16+6.44309585e-16j,  6.72265670e-16-6.44309585e-16j,\n",
       "        6.57949023e-16+4.66113025e-17j,  6.57949023e-16-4.66113025e-17j,\n",
       "        6.55998122e-16+2.50304137e-16j,  6.55998122e-16-2.50304137e-16j,\n",
       "        6.41856515e-16+4.56123576e-16j,  6.41856515e-16-4.56123576e-16j,\n",
       "        6.21276549e-16+1.78965579e-15j,  6.21276549e-16-1.78965579e-15j,\n",
       "        6.01202951e-16+1.66761339e-16j,  6.01202951e-16-1.66761339e-16j,\n",
       "        5.90059135e-16+9.86131865e-16j,  5.90059135e-16-9.86131865e-16j,\n",
       "        5.51868826e-16+7.05054607e-16j,  5.51868826e-16-7.05054607e-16j,\n",
       "        5.49229131e-16+1.48365368e-16j,  5.49229131e-16-1.48365368e-16j,\n",
       "        5.23413487e-16+9.59562019e-16j,  5.23413487e-16-9.59562019e-16j,\n",
       "        4.89469710e-16+2.82447904e-16j,  4.89469710e-16-2.82447904e-16j,\n",
       "        4.66270222e-16+1.26665814e-15j,  4.66270222e-16-1.26665814e-15j,\n",
       "        4.64274738e-16+5.34740975e-16j,  4.64274738e-16-5.34740975e-16j,\n",
       "        4.63234846e-16+5.19971319e-16j,  4.63234846e-16-5.19971319e-16j,\n",
       "        4.60963813e-16+0.00000000e+00j,  4.59925504e-16+3.82503710e-16j,\n",
       "        4.59925504e-16-3.82503710e-16j,  4.58106622e-16+2.10354870e-16j,\n",
       "        4.58106622e-16-2.10354870e-16j,  4.49382657e-16+1.69843347e-16j,\n",
       "        4.49382657e-16-1.69843347e-16j,  4.28973250e-16+4.98478839e-17j,\n",
       "        4.28973250e-16-4.98478839e-17j,  3.91938098e-16+1.37517705e-15j,\n",
       "        3.91938098e-16-1.37517705e-15j,  3.88777434e-16+2.78834886e-16j,\n",
       "        3.88777434e-16-2.78834886e-16j,  3.82638391e-16+5.76766241e-17j,\n",
       "        3.82638391e-16-5.76766241e-17j,  3.77167025e-16+8.84138267e-16j,\n",
       "        3.77167025e-16-8.84138267e-16j,  3.68324133e-16+1.12520424e-15j,\n",
       "        3.68324133e-16-1.12520424e-15j,  3.54015516e-16+7.97392332e-16j,\n",
       "        3.54015516e-16-7.97392332e-16j,  3.25133216e-16+3.63171149e-16j,\n",
       "        3.25133216e-16-3.63171149e-16j,  3.10737563e-16+1.98451660e-16j,\n",
       "        3.10737563e-16-1.98451660e-16j,  2.97882052e-16+9.81887707e-17j,\n",
       "        2.97882052e-16-9.81887707e-17j,  2.88427396e-16+6.42907443e-16j,\n",
       "        2.88427396e-16-6.42907443e-16j,  2.72746164e-16+2.82628972e-16j,\n",
       "        2.72746164e-16-2.82628972e-16j,  2.56477544e-16+0.00000000e+00j,\n",
       "        2.55009360e-16+4.37815151e-16j,  2.55009360e-16-4.37815151e-16j,\n",
       "        2.37562897e-16+1.67669172e-16j,  2.37562897e-16-1.67669172e-16j,\n",
       "        2.29133245e-16+5.77099028e-16j,  2.29133245e-16-5.77099028e-16j,\n",
       "        2.19961399e-16+2.97102980e-16j,  2.19961399e-16-2.97102980e-16j,\n",
       "        2.18895867e-16+2.37603633e-17j,  2.18895867e-16-2.37603633e-17j,\n",
       "        2.04129089e-16+7.32569316e-16j,  2.04129089e-16-7.32569316e-16j,\n",
       "        1.96973157e-16+1.07878568e-15j,  1.96973157e-16-1.07878568e-15j,\n",
       "        1.64583138e-16+8.24726463e-17j,  1.64583138e-16-8.24726463e-17j,\n",
       "        1.56654863e-16+4.30436229e-16j,  1.56654863e-16-4.30436229e-16j,\n",
       "        1.42622149e-16+3.83448042e-16j,  1.42622149e-16-3.83448042e-16j,\n",
       "        1.38081629e-16+1.24008907e-16j,  1.38081629e-16-1.24008907e-16j,\n",
       "        1.32578976e-16+1.58740849e-16j,  1.32578976e-16-1.58740849e-16j,\n",
       "        1.18865290e-16+2.79260159e-17j,  1.18865290e-16-2.79260159e-17j,\n",
       "        1.14793474e-16+1.98680758e-16j,  1.14793474e-16-1.98680758e-16j,\n",
       "        8.87033344e-17+5.41348406e-16j,  8.87033344e-17-5.41348406e-16j,\n",
       "        8.30262177e-17+6.97913150e-16j,  8.30262177e-17-6.97913150e-16j,\n",
       "        8.07525571e-17+1.55315659e-15j,  8.07525571e-17-1.55315659e-15j,\n",
       "        7.69555765e-17+3.06716600e-16j,  7.69555765e-17-3.06716600e-16j,\n",
       "        7.53522403e-17+7.15891601e-17j,  7.53522403e-17-7.15891601e-17j,\n",
       "        6.96713083e-17+1.90262535e-16j,  6.96713083e-17-1.90262535e-16j,\n",
       "        5.64704449e-17+1.47546689e-16j,  5.64704449e-17-1.47546689e-16j,\n",
       "        4.23691034e-17+0.00000000e+00j,  3.71088114e-17+9.41686159e-16j,\n",
       "        3.71088114e-17-9.41686159e-16j,  3.52945364e-17+2.58077349e-17j,\n",
       "        3.52945364e-17-2.58077349e-17j,  2.26123758e-17+2.65666649e-16j,\n",
       "        2.26123758e-17-2.65666649e-16j,  2.15023880e-17+1.47384642e-15j,\n",
       "        2.15023880e-17-1.47384642e-15j,  2.06485347e-17+2.54971145e-16j,\n",
       "        2.06485347e-17-2.54971145e-16j,  1.19173207e-17+1.01764919e-16j,\n",
       "        1.19173207e-17-1.01764919e-16j,  1.16178797e-17+0.00000000e+00j,\n",
       "        9.74672134e-18+5.63902388e-16j,  9.74672134e-18-5.63902388e-16j,\n",
       "       -2.45998458e-18+5.14426819e-17j, -2.45998458e-18-5.14426819e-17j,\n",
       "       -5.18105155e-18+0.00000000e+00j, -2.33653041e-17+1.62051752e-16j,\n",
       "       -2.33653041e-17-1.62051752e-16j, -2.50106008e-17+6.07539116e-16j,\n",
       "       -2.50106008e-17-6.07539116e-16j, -6.34864662e-17+1.81693413e-17j,\n",
       "       -6.34864662e-17-1.81693413e-17j, -6.89745734e-17+3.21944992e-16j,\n",
       "       -6.89745734e-17-3.21944992e-16j, -7.13120072e-17+8.29713960e-17j,\n",
       "       -7.13120072e-17-8.29713960e-17j, -7.52246178e-17+4.96060890e-17j,\n",
       "       -7.52246178e-17-4.96060890e-17j, -8.17551838e-17+2.59411758e-16j,\n",
       "       -8.17551838e-17-2.59411758e-16j, -9.83665830e-17+4.81859194e-16j,\n",
       "       -9.83665830e-17-4.81859194e-16j, -1.07459833e-16+7.93188004e-16j,\n",
       "       -1.07459833e-16-7.93188004e-16j, -1.12533347e-16+1.27375818e-16j,\n",
       "       -1.12533347e-16-1.27375818e-16j, -1.13097102e-16+1.29783340e-15j,\n",
       "       -1.13097102e-16-1.29783340e-15j, -1.14703364e-16+0.00000000e+00j,\n",
       "       -1.18078097e-16+2.00048054e-15j, -1.18078097e-16-2.00048054e-15j,\n",
       "       -1.34748814e-16+7.28661843e-16j, -1.34748814e-16-7.28661843e-16j,\n",
       "       -1.35148962e-16+1.61583963e-15j, -1.35148962e-16-1.61583963e-15j,\n",
       "       -1.45392126e-16+3.43487372e-17j, -1.45392126e-16-3.43487372e-17j,\n",
       "       -1.46804445e-16+7.08094705e-17j, -1.46804445e-16-7.08094705e-17j,\n",
       "       -1.55120686e-16+3.15868887e-16j, -1.55120686e-16-3.15868887e-16j,\n",
       "       -1.55173782e-16+6.11859935e-16j, -1.55173782e-16-6.11859935e-16j,\n",
       "       -1.60385305e-16+1.69474396e-16j, -1.60385305e-16-1.69474396e-16j,\n",
       "       -1.78504160e-16+3.81728060e-16j, -1.78504160e-16-3.81728060e-16j,\n",
       "       -1.84753658e-16+9.59074134e-16j, -1.84753658e-16-9.59074134e-16j,\n",
       "       -1.97171267e-16+1.23717720e-16j, -1.97171267e-16-1.23717720e-16j,\n",
       "       -2.02456157e-16+8.03732704e-16j, -2.02456157e-16-8.03732704e-16j,\n",
       "       -2.08542684e-16+1.12051728e-15j, -2.08542684e-16-1.12051728e-15j,\n",
       "       -2.26872614e-16+1.17223660e-16j, -2.26872614e-16-1.17223660e-16j,\n",
       "       -2.28097102e-16+1.92969710e-16j, -2.28097102e-16-1.92969710e-16j,\n",
       "       -2.39131516e-16+0.00000000e+00j, -2.53515005e-16+4.16191710e-16j,\n",
       "       -2.53515005e-16-4.16191710e-16j, -2.65886904e-16+1.37787322e-16j,\n",
       "       -2.65886904e-16-1.37787322e-16j, -2.73989042e-16+0.00000000e+00j,\n",
       "       -2.78946206e-16+6.22657805e-16j, -2.78946206e-16-6.22657805e-16j,\n",
       "       -2.92497806e-16+3.22649878e-16j, -2.92497806e-16-3.22649878e-16j,\n",
       "       -3.30056085e-16+1.00249521e-17j, -3.30056085e-16-1.00249521e-17j,\n",
       "       -3.38259453e-16+3.83638511e-16j, -3.38259453e-16-3.83638511e-16j,\n",
       "       -3.48418802e-16+6.61389223e-15j, -3.48418802e-16-6.61389223e-15j,\n",
       "       -3.63551063e-16+1.50828272e-16j, -3.63551063e-16-1.50828272e-16j,\n",
       "       -3.65411670e-16+1.34958683e-15j, -3.65411670e-16-1.34958683e-15j,\n",
       "       -3.80660302e-16+6.25186582e-16j, -3.80660302e-16-6.25186582e-16j,\n",
       "       -3.82347003e-16+1.05240307e-15j, -3.82347003e-16-1.05240307e-15j,\n",
       "       -3.98079991e-16+2.37359276e-16j, -3.98079991e-16-2.37359276e-16j,\n",
       "       -4.28677290e-16+5.10458806e-16j, -4.28677290e-16-5.10458806e-16j,\n",
       "       -4.31959193e-16+9.81067078e-17j, -4.31959193e-16-9.81067078e-17j,\n",
       "       -4.44307814e-16+7.82194516e-16j, -4.44307814e-16-7.82194516e-16j,\n",
       "       -4.54438077e-16+1.38360119e-16j, -4.54438077e-16-1.38360119e-16j,\n",
       "       -4.55635702e-16+9.79054176e-16j, -4.55635702e-16-9.79054176e-16j,\n",
       "       -4.87552442e-16+1.23880454e-16j, -4.87552442e-16-1.23880454e-16j,\n",
       "       -4.88927557e-16+0.00000000e+00j, -5.13711947e-16+5.95413958e-16j,\n",
       "       -5.13711947e-16-5.95413958e-16j, -5.23886106e-16+1.91118413e-16j,\n",
       "       -5.23886106e-16-1.91118413e-16j, -5.30804146e-16+3.52789449e-16j,\n",
       "       -5.30804146e-16-3.52789449e-16j, -5.73416183e-16+0.00000000e+00j,\n",
       "       -5.81455150e-16+3.18301870e-16j, -5.81455150e-16-3.18301870e-16j,\n",
       "       -5.93011702e-16+5.02443931e-17j, -5.93011702e-16-5.02443931e-17j,\n",
       "       -6.13021618e-16+1.81090081e-15j, -6.13021618e-16-1.81090081e-15j,\n",
       "       -6.37812718e-16+2.19438774e-16j, -6.37812718e-16-2.19438774e-16j,\n",
       "       -6.41263081e-16+3.75297811e-16j, -6.41263081e-16-3.75297811e-16j,\n",
       "       -6.47894561e-16+6.02978213e-16j, -6.47894561e-16-6.02978213e-16j,\n",
       "       -6.49380597e-16+1.12996419e-15j, -6.49380597e-16-1.12996419e-15j,\n",
       "       -6.72032386e-16+1.44345234e-15j, -6.72032386e-16-1.44345234e-15j,\n",
       "       -6.75326166e-16+1.70924288e-15j, -6.75326166e-16-1.70924288e-15j,\n",
       "       -7.07981774e-16+2.03123440e-16j, -7.07981774e-16-2.03123440e-16j,\n",
       "       -7.09511987e-16+0.00000000e+00j, -7.09900470e-16+9.69385909e-16j,\n",
       "       -7.09900470e-16-9.69385909e-16j, -7.20706207e-16+5.11112835e-16j,\n",
       "       -7.20706207e-16-5.11112835e-16j, -7.84792661e-16+7.17296683e-16j,\n",
       "       -7.84792661e-16-7.17296683e-16j, -7.85033673e-16+3.89366240e-17j,\n",
       "       -7.85033673e-16-3.89366240e-17j, -8.25984450e-16+7.77682557e-16j,\n",
       "       -8.25984450e-16-7.77682557e-16j, -8.73473224e-16+4.34954581e-16j,\n",
       "       -8.73473224e-16-4.34954581e-16j, -8.89140979e-16+1.56316724e-16j,\n",
       "       -8.89140979e-16-1.56316724e-16j, -8.94231145e-16+8.58979977e-16j,\n",
       "       -8.94231145e-16-8.58979977e-16j, -9.12600410e-16+3.31320309e-15j,\n",
       "       -9.12600410e-16-3.31320309e-15j, -9.15585856e-16+5.48540689e-16j,\n",
       "       -9.15585856e-16-5.48540689e-16j, -9.20486981e-16+8.55056730e-17j,\n",
       "       -9.20486981e-16-8.55056730e-17j, -9.29840166e-16+1.25734666e-15j,\n",
       "       -9.29840166e-16-1.25734666e-15j, -9.99146350e-16+4.16171303e-16j,\n",
       "       -9.99146350e-16-4.16171303e-16j, -1.00449840e-15+0.00000000e+00j,\n",
       "       -1.02123232e-15+2.60106116e-16j, -1.02123232e-15-2.60106116e-16j,\n",
       "       -1.06149083e-15+1.54976686e-15j, -1.06149083e-15-1.54976686e-15j,\n",
       "       -1.06854696e-15+7.29425764e-16j, -1.06854696e-15-7.29425764e-16j,\n",
       "       -1.07989040e-15+5.07516244e-16j, -1.07989040e-15-5.07516244e-16j,\n",
       "       -1.09526085e-15+8.63580569e-16j, -1.09526085e-15-8.63580569e-16j,\n",
       "       -1.09853672e-15+0.00000000e+00j, -1.11561572e-15+1.52403715e-16j,\n",
       "       -1.11561572e-15-1.52403715e-16j, -1.12591581e-15+1.26352642e-15j,\n",
       "       -1.12591581e-15-1.26352642e-15j, -1.15264576e-15+3.71389292e-16j,\n",
       "       -1.15264576e-15-3.71389292e-16j, -1.17000507e-15+0.00000000e+00j,\n",
       "       -1.20274396e-15+5.28578048e-16j, -1.20274396e-15-5.28578048e-16j,\n",
       "       -1.22200443e-15+1.72643756e-15j, -1.22200443e-15-1.72643756e-15j,\n",
       "       -1.25930295e-15+2.10572972e-15j, -1.25930295e-15-2.10572972e-15j,\n",
       "       -1.25956393e-15+1.39207513e-15j, -1.25956393e-15-1.39207513e-15j,\n",
       "       -1.33542805e-15+4.17404599e-16j, -1.33542805e-15-4.17404599e-16j,\n",
       "       -1.34398192e-15+3.05262803e-16j, -1.34398192e-15-3.05262803e-16j,\n",
       "       -1.35805618e-15+7.58272078e-16j, -1.35805618e-15-7.58272078e-16j,\n",
       "       -1.36464760e-15+1.09840862e-15j, -1.36464760e-15-1.09840862e-15j,\n",
       "       -1.40670555e-15+9.56111068e-17j, -1.40670555e-15-9.56111068e-17j,\n",
       "       -1.45656120e-15+1.67550002e-16j, -1.45656120e-15-1.67550002e-16j,\n",
       "       -1.46170963e-15+7.05086202e-16j, -1.46170963e-15-7.05086202e-16j,\n",
       "       -1.54333467e-15+0.00000000e+00j, -1.55912184e-15+4.63549684e-16j,\n",
       "       -1.55912184e-15-4.63549684e-16j, -1.59725965e-15+7.46584040e-16j,\n",
       "       -1.59725965e-15-7.46584040e-16j, -1.62444441e-15+1.25135773e-15j,\n",
       "       -1.62444441e-15-1.25135773e-15j, -1.70050718e-15+0.00000000e+00j,\n",
       "       -1.73636784e-15+0.00000000e+00j, -1.74245174e-15+3.83747585e-16j,\n",
       "       -1.74245174e-15-3.83747585e-16j, -1.74525603e-15+6.83091254e-16j,\n",
       "       -1.74525603e-15-6.83091254e-16j, -1.76003759e-15+1.12644218e-15j,\n",
       "       -1.76003759e-15-1.12644218e-15j, -1.76656251e-15+5.09578925e-16j,\n",
       "       -1.76656251e-15-5.09578925e-16j, -1.82280820e-15+1.01581788e-15j,\n",
       "       -1.82280820e-15-1.01581788e-15j, -1.86810184e-15+6.20622223e-15j,\n",
       "       -1.86810184e-15-6.20622223e-15j, -2.02951394e-15+1.10627033e-15j,\n",
       "       -2.02951394e-15-1.10627033e-15j, -2.07742947e-15+1.52207777e-16j,\n",
       "       -2.07742947e-15-1.52207777e-16j, -2.09123363e-15+0.00000000e+00j,\n",
       "       -2.10925642e-15+1.73608142e-15j, -2.10925642e-15-1.73608142e-15j,\n",
       "       -2.29074621e-15+3.53939399e-16j, -2.29074621e-15-3.53939399e-16j,\n",
       "       -2.30833572e-15+9.45124738e-17j, -2.30833572e-15-9.45124738e-17j,\n",
       "       -2.37481616e-15+6.69276497e-16j, -2.37481616e-15-6.69276497e-16j,\n",
       "       -2.48342433e-15+0.00000000e+00j, -2.50753688e-15+1.16209425e-15j,\n",
       "       -2.50753688e-15-1.16209425e-15j, -2.53159390e-15+7.30980155e-16j,\n",
       "       -2.53159390e-15-7.30980155e-16j, -2.64043618e-15+1.68658289e-16j,\n",
       "       -2.64043618e-15-1.68658289e-16j, -2.74485980e-15+0.00000000e+00j,\n",
       "       -2.95460982e-15+0.00000000e+00j, -3.17932448e-15+0.00000000e+00j,\n",
       "       -3.59816847e-15+1.73998205e-15j, -3.59816847e-15-1.73998205e-15j,\n",
       "       -3.66166045e-15+8.59292823e-16j, -3.66166045e-15-8.59292823e-16j,\n",
       "       -3.72427389e-15+5.42802007e-15j, -3.72427389e-15-5.42802007e-15j,\n",
       "       -4.55683546e-15+0.00000000e+00j, -4.83570715e-15+5.49085187e-15j,\n",
       "       -4.83570715e-15-5.49085187e-15j, -6.31444017e-15+2.49628044e-15j,\n",
       "       -6.31444017e-15-2.49628044e-15j, -7.27289848e-15+2.41696235e-15j,\n",
       "       -7.27289848e-15-2.41696235e-15j, -7.89507982e-15+0.00000000e+00j])"
      ]
     },
     "execution_count": 49,
     "metadata": {},
     "output_type": "execute_result"
    }
   ],
   "source": [
    "eigenvalues"
   ]
  },
  {
   "cell_type": "code",
   "execution_count": 52,
   "metadata": {},
   "outputs": [
    {
     "data": {
      "image/png": "[encoded data removed]",
      "text/plain": [
       "<Figure size 800x600 with 1 Axes>"
      ]
     },
     "metadata": {},
     "output_type": "display_data"
    }
   ],
   "source": [
    "# 5. \n",
    "# select top k eigenvectors (principal components)\n",
    "# how to know which one?\n",
    "# we can plot the eigenvalues\n",
    "\n",
    "explained_variance_ratio = eigenvalues / np.sum(eigenvalues)\n",
    "\n",
    "# Plot the explained variance\n",
    "plt.figure(figsize=(8,6))\n",
    "plt.bar(range(1,len(explained_variance_ratio) +1), explained_variance_ratio)\n",
    "plt.title('Explained Variance Ratio')\n",
    "plt.xlabel('Principal Component')\n",
    "plt.ylabel('Explained Variance Ratio')\n",
    "plt.show()"
   ]
  },
  {
   "cell_type": "code",
   "execution_count": 53,
   "metadata": {},
   "outputs": [],
   "source": [
    "top_pc_select = 2\n",
    "\n",
    "eigenvectors = eigenvectors[:, :top_pc_select]\n",
    "\n",
    "# 6. \n",
    "# Normalize to component\n",
    "pc = eigenvectors / np.linalg.norm(eigenvectors, axis=0)\n",
    "\n",
    "# 7.\n",
    "# transform data\n",
    "features_transformed = features_pca.dot(pc)"
   ]
  },
  {
   "cell_type": "code",
   "execution_count": null,
   "metadata": {},
   "outputs": [],
   "source": [
    "# or use existing tool from scikit-learn\n",
    "from sklearn.decomposition import PCA\n",
    "\n",
    "# https://scikit-learn.org/stable/modules/generated/sklearn.decomposition.PCA.html\n"
   ]
  },
  {
   "cell_type": "markdown",
   "metadata": {},
   "source": [
    "## Linear Model "
   ]
  },
  {
   "cell_type": "code",
   "execution_count": null,
   "metadata": {},
   "outputs": [],
   "source": [
    "# Create a Linear Regression model\n",
    "# fit the transformed data (PCA) and non-transformed data\n",
    "# https://scikit-learn.org/stable/modules/generated/sklearn.linear_model.LinearRegression.html\n",
    "\n",
    "# find out, which data perform better\n"
   ]
  },
  {
   "cell_type": "markdown",
   "metadata": {},
   "source": [
    "*That will be all. Have a nice day.*"
   ]
  }
 ],
 "metadata": {
  "kernelspec": {
   "display_name": "base",
   "language": "python",
   "name": "python3"
  },
  "language_info": {
   "codemirror_mode": {
    "name": "ipython",
    "version": 3
   },
   "file_extension": ".py",
   "mimetype": "text/x-python",
   "name": "python",
   "nbconvert_exporter": "python",
   "pygments_lexer": "ipython3",
   "version": "3.11.2"
  }
 },
 "nbformat": 4,
 "nbformat_minor": 2
}
