{
 "cells": [
  {
   "attachments": {},
   "cell_type": "markdown",
   "id": "fa7601d0",
   "metadata": {},
   "source": [
    "# ___\n",
    "\n",
    "# [ Machine Learning in Geosciences]\n",
    "\n",
    "\n",
    "---\n",
    "\n",
    "Lecturer: *Lukas Brodsky lukas.brodsky@natur.cuni.cz*\n",
    "\n",
    "**Department of Applied Geoinformatics and Carthography, Charles University** \n",
    "\n",
    "___"
   ]
  },
  {
   "cell_type": "markdown",
   "id": "ba50ec0f",
   "metadata": {},
   "source": [
    "## GeoPandas"
   ]
  },
  {
   "cell_type": "markdown",
   "id": "809757c7",
   "metadata": {},
   "source": [
    "This notebook introduces how to work with vectors in in Python using GeoPandas https://geopandas.org library. GeoPandas extends the popular data science library pandas by adding support for geospatial data.\n",
    "\n",
    "\n",
    "It covers: \n",
    "\n",
    "    \n",
    "* 1. Reading and writing vector data into GeoDataFrame and file system \n",
    "\n",
    "* 2. Simple accessors functions \n",
    "\n",
    "* 3. Plotting maps\n",
    "\n",
    "* 4. Geometry constructors \n"
   ]
  },
  {
   "cell_type": "markdown",
   "id": "8a5e0489",
   "metadata": {},
   "source": [
    "The core data structure in GeoPandas is the `geopandas.GeoDataFrame`, a subclass of `pandas.DataFrame`, that can store `geometry` columns and perform spatial operations. The `geopandas.GeoSeries`, a subclass of `pandas.Series`, handles the `geometries`. \n",
    "\n",
    "You can have as many columns with geometries as you wish; there’s no limit typical for desktop GIS software.\n",
    " \n",
    " "
   ]
  },
  {
   "cell_type": "code",
   "execution_count": 1,
   "id": "963fa85c",
   "metadata": {},
   "outputs": [
    {
     "data": {
      "text/html": [
       "<img src=\"https://geopandas.org/en/stable/_images/dataframe.svg\"/>"
      ],
      "text/plain": [
       "<IPython.core.display.Image object>"
      ]
     },
     "execution_count": 1,
     "metadata": {},
     "output_type": "execute_result"
    }
   ],
   "source": [
    "from IPython.display import Image\n",
    "from IPython.core.display import HTML \n",
    "Image(url= \"https://geopandas.org/en/stable/_images/dataframe.svg\")"
   ]
  },
  {
   "cell_type": "markdown",
   "id": "4fc5d244",
   "metadata": {},
   "source": [
    "Each `GeoSeries` can contain any `geometry type` (you can even mix them within a single array) and has a `GeoSeries.crs` attribute, which stores information about the projection (CRS stands for Coordinate Reference System). Therefore, each `GeoSeries` in a `GeoDataFrame` can be in a different projection, allowing you to have, for example, multiple versions (different projections) of the same `geometry`.\n",
    "\n",
    "Only one `GeoSeries` in a `GeoDataFrae` is considered the `active geometry`, which means that all geometric operations applied to a `GeoDataFrame` operate on this active column."
   ]
  },
  {
   "cell_type": "markdown",
   "id": "406c94dc",
   "metadata": {},
   "source": [
    "## Reading and writing files"
   ]
  },
  {
   "cell_type": "code",
   "execution_count": 2,
   "id": "45f79da5",
   "metadata": {},
   "outputs": [],
   "source": [
    "import os \n",
    "import geopandas\n",
    "import pandas as pd"
   ]
  },
  {
   "cell_type": "markdown",
   "id": "320aa820",
   "metadata": {},
   "source": [
    "`geopandas.read_file()`"
   ]
  },
  {
   "cell_type": "code",
   "execution_count": 3,
   "id": "2e0c8136",
   "metadata": {
    "scrolled": true
   },
   "outputs": [],
   "source": [
    "# Reading\n",
    "# # CHANGE TO YOUR PATH!!!\n",
    "path = r'C:\\Users\\uzivatel\\Documents\\GitHub\\Machine_learning\\10_11_LAB_GeoAI_GeoPython\\GeoPython'\n",
    "filename = 'polygons.shp'\n",
    "path_fn = os.path.join(path, filename)\n",
    "gdf = geopandas.read_file(path_fn)"
   ]
  },
  {
   "cell_type": "code",
   "execution_count": 4,
   "id": "8feedd0d",
   "metadata": {},
   "outputs": [
    {
     "data": {
      "text/html": [
       "<div>\n",
       "<style scoped>\n",
       "    .dataframe tbody tr th:only-of-type {\n",
       "        vertical-align: middle;\n",
       "    }\n",
       "\n",
       "    .dataframe tbody tr th {\n",
       "        vertical-align: top;\n",
       "    }\n",
       "\n",
       "    .dataframe thead th {\n",
       "        text-align: right;\n",
       "    }\n",
       "</style>\n",
       "<table border=\"1\" class=\"dataframe\">\n",
       "  <thead>\n",
       "    <tr style=\"text-align: right;\">\n",
       "      <th></th>\n",
       "      <th>label</th>\n",
       "      <th>note</th>\n",
       "      <th>geometry</th>\n",
       "    </tr>\n",
       "  </thead>\n",
       "  <tbody>\n",
       "    <tr>\n",
       "      <th>0</th>\n",
       "      <td>1</td>\n",
       "      <td>glacier</td>\n",
       "      <td>POLYGON ((630019.737 7747367.105, 630896.053 7...</td>\n",
       "    </tr>\n",
       "    <tr>\n",
       "      <th>1</th>\n",
       "      <td>2</td>\n",
       "      <td>debries</td>\n",
       "      <td>POLYGON ((631944.079 7740883.553, 632169.079 7...</td>\n",
       "    </tr>\n",
       "    <tr>\n",
       "      <th>2</th>\n",
       "      <td>3</td>\n",
       "      <td>rock</td>\n",
       "      <td>POLYGON ((625330.263 7741517.105, 625780.263 7...</td>\n",
       "    </tr>\n",
       "  </tbody>\n",
       "</table>\n",
       "</div>"
      ],
      "text/plain": [
       "   label     note                                           geometry\n",
       "0      1  glacier  POLYGON ((630019.737 7747367.105, 630896.053 7...\n",
       "1      2  debries  POLYGON ((631944.079 7740883.553, 632169.079 7...\n",
       "2      3     rock  POLYGON ((625330.263 7741517.105, 625780.263 7..."
      ]
     },
     "execution_count": 4,
     "metadata": {},
     "output_type": "execute_result"
    }
   ],
   "source": [
    "gdf"
   ]
  },
  {
   "cell_type": "code",
   "execution_count": 5,
   "id": "54e73628",
   "metadata": {
    "scrolled": true
   },
   "outputs": [
    {
     "data": {
      "text/html": [
       "<div>\n",
       "<style scoped>\n",
       "    .dataframe tbody tr th:only-of-type {\n",
       "        vertical-align: middle;\n",
       "    }\n",
       "\n",
       "    .dataframe tbody tr th {\n",
       "        vertical-align: top;\n",
       "    }\n",
       "\n",
       "    .dataframe thead th {\n",
       "        text-align: right;\n",
       "    }\n",
       "</style>\n",
       "<table border=\"1\" class=\"dataframe\">\n",
       "  <thead>\n",
       "    <tr style=\"text-align: right;\">\n",
       "      <th></th>\n",
       "      <th>label</th>\n",
       "      <th>note</th>\n",
       "      <th>geometry</th>\n",
       "    </tr>\n",
       "  </thead>\n",
       "  <tbody>\n",
       "    <tr>\n",
       "      <th>0</th>\n",
       "      <td>1</td>\n",
       "      <td>glacier</td>\n",
       "      <td>POLYGON ((630019.737 7747367.105, 630896.053 7...</td>\n",
       "    </tr>\n",
       "    <tr>\n",
       "      <th>1</th>\n",
       "      <td>2</td>\n",
       "      <td>debries</td>\n",
       "      <td>POLYGON ((631944.079 7740883.553, 632169.079 7...</td>\n",
       "    </tr>\n",
       "    <tr>\n",
       "      <th>2</th>\n",
       "      <td>3</td>\n",
       "      <td>rock</td>\n",
       "      <td>POLYGON ((625330.263 7741517.105, 625780.263 7...</td>\n",
       "    </tr>\n",
       "  </tbody>\n",
       "</table>\n",
       "</div>"
      ],
      "text/plain": [
       "   label     note                                           geometry\n",
       "0      1  glacier  POLYGON ((630019.737 7747367.105, 630896.053 7...\n",
       "1      2  debries  POLYGON ((631944.079 7740883.553, 632169.079 7...\n",
       "2      3     rock  POLYGON ((625330.263 7741517.105, 625780.263 7..."
      ]
     },
     "execution_count": 5,
     "metadata": {},
     "output_type": "execute_result"
    }
   ],
   "source": [
    "gdf.head()"
   ]
  },
  {
   "cell_type": "code",
   "execution_count": 6,
   "id": "e4850e00",
   "metadata": {},
   "outputs": [],
   "source": [
    "gdf['label2'] = gdf['label'] + 5"
   ]
  },
  {
   "cell_type": "code",
   "execution_count": 7,
   "id": "c1f81310",
   "metadata": {
    "scrolled": true
   },
   "outputs": [
    {
     "data": {
      "text/plain": [
       "0    6\n",
       "1    7\n",
       "2    8\n",
       "Name: label2, dtype: int64"
      ]
     },
     "execution_count": 7,
     "metadata": {},
     "output_type": "execute_result"
    }
   ],
   "source": [
    "gdf['label2']"
   ]
  },
  {
   "cell_type": "code",
   "execution_count": 8,
   "id": "7b4a2eec",
   "metadata": {
    "scrolled": true
   },
   "outputs": [
    {
     "name": "stderr",
     "output_type": "stream",
     "text": [
      "C:\\Users\\uzivatel\\AppData\\Local\\Temp\\ipykernel_6124\\3010325453.py:1: SettingWithCopyWarning: \n",
      "A value is trying to be set on a copy of a slice from a DataFrame\n",
      "\n",
      "See the caveats in the documentation: https://pandas.pydata.org/pandas-docs/stable/user_guide/indexing.html#returning-a-view-versus-a-copy\n",
      "  gdf.iloc[1]['note'] = 'debris'\n"
     ]
    }
   ],
   "source": [
    "gdf.iloc[1]['note'] = 'debris'"
   ]
  },
  {
   "cell_type": "code",
   "execution_count": 9,
   "id": "28ac4378",
   "metadata": {},
   "outputs": [
    {
     "data": {
      "text/html": [
       "<div>\n",
       "<style scoped>\n",
       "    .dataframe tbody tr th:only-of-type {\n",
       "        vertical-align: middle;\n",
       "    }\n",
       "\n",
       "    .dataframe tbody tr th {\n",
       "        vertical-align: top;\n",
       "    }\n",
       "\n",
       "    .dataframe thead th {\n",
       "        text-align: right;\n",
       "    }\n",
       "</style>\n",
       "<table border=\"1\" class=\"dataframe\">\n",
       "  <thead>\n",
       "    <tr style=\"text-align: right;\">\n",
       "      <th></th>\n",
       "      <th>label</th>\n",
       "      <th>note</th>\n",
       "      <th>geometry</th>\n",
       "      <th>label2</th>\n",
       "    </tr>\n",
       "  </thead>\n",
       "  <tbody>\n",
       "    <tr>\n",
       "      <th>0</th>\n",
       "      <td>1</td>\n",
       "      <td>glacier</td>\n",
       "      <td>POLYGON ((630019.737 7747367.105, 630896.053 7...</td>\n",
       "      <td>6</td>\n",
       "    </tr>\n",
       "    <tr>\n",
       "      <th>1</th>\n",
       "      <td>2</td>\n",
       "      <td>debries</td>\n",
       "      <td>POLYGON ((631944.079 7740883.553, 632169.079 7...</td>\n",
       "      <td>7</td>\n",
       "    </tr>\n",
       "    <tr>\n",
       "      <th>2</th>\n",
       "      <td>3</td>\n",
       "      <td>rock</td>\n",
       "      <td>POLYGON ((625330.263 7741517.105, 625780.263 7...</td>\n",
       "      <td>8</td>\n",
       "    </tr>\n",
       "  </tbody>\n",
       "</table>\n",
       "</div>"
      ],
      "text/plain": [
       "   label     note                                           geometry  label2\n",
       "0      1  glacier  POLYGON ((630019.737 7747367.105, 630896.053 7...       6\n",
       "1      2  debries  POLYGON ((631944.079 7740883.553, 632169.079 7...       7\n",
       "2      3     rock  POLYGON ((625330.263 7741517.105, 625780.263 7...       8"
      ]
     },
     "execution_count": 9,
     "metadata": {},
     "output_type": "execute_result"
    }
   ],
   "source": [
    "gdf"
   ]
  },
  {
   "cell_type": "markdown",
   "id": "e42577dd",
   "metadata": {},
   "source": [
    "`GeoDataFrame.to_file()`\n",
    "\n",
    "The default file format is Shapefile, but you can specify your own with the driver keyword."
   ]
  },
  {
   "cell_type": "code",
   "execution_count": 10,
   "id": "4ebab1db",
   "metadata": {},
   "outputs": [],
   "source": [
    "# writing\n",
    "# # CHANGE TO YOUR PATH!!!\n",
    "# path_lfs = '/Users/lukas/Work/prfuk/vyuka/erasmus_ml_geography/data/'\n",
    "gdf.to_file(os.path.join(path, 'my_polygons.geojson'), driver=\"GeoJSON\")"
   ]
  },
  {
   "cell_type": "markdown",
   "id": "928a0e3a",
   "metadata": {},
   "source": [
    "## Simple accessors and methods"
   ]
  },
  {
   "cell_type": "markdown",
   "id": "d62e5b9c",
   "metadata": {},
   "source": [
    "### Measuring area\n",
    "To measure the area of each polygon (or MultiPolygon in this specific case), access the GeoDataFrame.area attribute, which returns a pandas.Series. Note that `GeoDataFrame.area` is just `GeoSeries.area` applied to the active `geometry` column."
   ]
  },
  {
   "cell_type": "code",
   "execution_count": 11,
   "id": "cfc92b1a",
   "metadata": {
    "scrolled": true
   },
   "outputs": [
    {
     "data": {
      "text/plain": [
       "0    3.099765\n",
       "1    0.151314\n",
       "2    0.676496\n",
       "Name: area, dtype: float64"
      ]
     },
     "execution_count": 11,
     "metadata": {},
     "output_type": "execute_result"
    }
   ],
   "source": [
    "# add new attribute area\n",
    "gdf[\"area\"] = gdf.area / 1000000 # km2 \n",
    "gdf[\"area\"].head()"
   ]
  },
  {
   "cell_type": "code",
   "execution_count": 12,
   "id": "c8c4bad6",
   "metadata": {},
   "outputs": [
    {
     "data": {
      "text/html": [
       "<div>\n",
       "<style scoped>\n",
       "    .dataframe tbody tr th:only-of-type {\n",
       "        vertical-align: middle;\n",
       "    }\n",
       "\n",
       "    .dataframe tbody tr th {\n",
       "        vertical-align: top;\n",
       "    }\n",
       "\n",
       "    .dataframe thead th {\n",
       "        text-align: right;\n",
       "    }\n",
       "</style>\n",
       "<table border=\"1\" class=\"dataframe\">\n",
       "  <thead>\n",
       "    <tr style=\"text-align: right;\">\n",
       "      <th></th>\n",
       "      <th>label</th>\n",
       "      <th>note</th>\n",
       "      <th>geometry</th>\n",
       "      <th>label2</th>\n",
       "      <th>area</th>\n",
       "    </tr>\n",
       "  </thead>\n",
       "  <tbody>\n",
       "    <tr>\n",
       "      <th>0</th>\n",
       "      <td>1</td>\n",
       "      <td>glacier</td>\n",
       "      <td>POLYGON ((630019.737 7747367.105, 630896.053 7...</td>\n",
       "      <td>6</td>\n",
       "      <td>3.099765</td>\n",
       "    </tr>\n",
       "    <tr>\n",
       "      <th>1</th>\n",
       "      <td>2</td>\n",
       "      <td>debries</td>\n",
       "      <td>POLYGON ((631944.079 7740883.553, 632169.079 7...</td>\n",
       "      <td>7</td>\n",
       "      <td>0.151314</td>\n",
       "    </tr>\n",
       "    <tr>\n",
       "      <th>2</th>\n",
       "      <td>3</td>\n",
       "      <td>rock</td>\n",
       "      <td>POLYGON ((625330.263 7741517.105, 625780.263 7...</td>\n",
       "      <td>8</td>\n",
       "      <td>0.676496</td>\n",
       "    </tr>\n",
       "  </tbody>\n",
       "</table>\n",
       "</div>"
      ],
      "text/plain": [
       "   label     note                                           geometry  label2  \\\n",
       "0      1  glacier  POLYGON ((630019.737 7747367.105, 630896.053 7...       6   \n",
       "1      2  debries  POLYGON ((631944.079 7740883.553, 632169.079 7...       7   \n",
       "2      3     rock  POLYGON ((625330.263 7741517.105, 625780.263 7...       8   \n",
       "\n",
       "       area  \n",
       "0  3.099765  \n",
       "1  0.151314  \n",
       "2  0.676496  "
      ]
     },
     "execution_count": 12,
     "metadata": {},
     "output_type": "execute_result"
    }
   ],
   "source": [
    "gdf"
   ]
  },
  {
   "cell_type": "markdown",
   "id": "e364af7e",
   "metadata": {},
   "source": [
    "### Getting polygon boundary and centroid"
   ]
  },
  {
   "cell_type": "code",
   "execution_count": 13,
   "id": "f4806ada",
   "metadata": {},
   "outputs": [
    {
     "data": {
      "text/plain": [
       "0    LINESTRING (630019.737 7747367.105, 630896.053...\n",
       "1    LINESTRING (631944.079 7740883.553, 632169.079...\n",
       "2    LINESTRING (625330.263 7741517.105, 625780.263...\n",
       "Name: boundary, dtype: geometry"
      ]
     },
     "execution_count": 13,
     "metadata": {},
     "output_type": "execute_result"
    }
   ],
   "source": [
    "gdf['boundary'] = gdf.boundary\n",
    "gdf['boundary'] "
   ]
  },
  {
   "cell_type": "code",
   "execution_count": 14,
   "id": "c07cc042",
   "metadata": {
    "scrolled": true
   },
   "outputs": [
    {
     "data": {
      "text/plain": [
       "0    POINT (630375.400 7746334.905)\n",
       "1    POINT (631925.346 7740645.252)\n",
       "2    POINT (625216.784 7741106.275)\n",
       "Name: centroid, dtype: geometry"
      ]
     },
     "execution_count": 14,
     "metadata": {},
     "output_type": "execute_result"
    }
   ],
   "source": [
    "gdf['centroid'] = gdf.centroid\n",
    "gdf['centroid']"
   ]
  },
  {
   "cell_type": "code",
   "execution_count": 15,
   "id": "638d3bb3",
   "metadata": {
    "scrolled": true
   },
   "outputs": [
    {
     "data": {
      "text/html": [
       "<div>\n",
       "<style scoped>\n",
       "    .dataframe tbody tr th:only-of-type {\n",
       "        vertical-align: middle;\n",
       "    }\n",
       "\n",
       "    .dataframe tbody tr th {\n",
       "        vertical-align: top;\n",
       "    }\n",
       "\n",
       "    .dataframe thead th {\n",
       "        text-align: right;\n",
       "    }\n",
       "</style>\n",
       "<table border=\"1\" class=\"dataframe\">\n",
       "  <thead>\n",
       "    <tr style=\"text-align: right;\">\n",
       "      <th></th>\n",
       "      <th>label</th>\n",
       "      <th>note</th>\n",
       "      <th>geometry</th>\n",
       "      <th>label2</th>\n",
       "      <th>area</th>\n",
       "      <th>boundary</th>\n",
       "      <th>centroid</th>\n",
       "    </tr>\n",
       "  </thead>\n",
       "  <tbody>\n",
       "    <tr>\n",
       "      <th>0</th>\n",
       "      <td>1</td>\n",
       "      <td>glacier</td>\n",
       "      <td>POLYGON ((630019.737 7747367.105, 630896.053 7...</td>\n",
       "      <td>6</td>\n",
       "      <td>3.099765</td>\n",
       "      <td>LINESTRING (630019.737 7747367.105, 630896.053...</td>\n",
       "      <td>POINT (630375.400 7746334.905)</td>\n",
       "    </tr>\n",
       "    <tr>\n",
       "      <th>1</th>\n",
       "      <td>2</td>\n",
       "      <td>debries</td>\n",
       "      <td>POLYGON ((631944.079 7740883.553, 632169.079 7...</td>\n",
       "      <td>7</td>\n",
       "      <td>0.151314</td>\n",
       "      <td>LINESTRING (631944.079 7740883.553, 632169.079...</td>\n",
       "      <td>POINT (631925.346 7740645.252)</td>\n",
       "    </tr>\n",
       "    <tr>\n",
       "      <th>2</th>\n",
       "      <td>3</td>\n",
       "      <td>rock</td>\n",
       "      <td>POLYGON ((625330.263 7741517.105, 625780.263 7...</td>\n",
       "      <td>8</td>\n",
       "      <td>0.676496</td>\n",
       "      <td>LINESTRING (625330.263 7741517.105, 625780.263...</td>\n",
       "      <td>POINT (625216.784 7741106.275)</td>\n",
       "    </tr>\n",
       "  </tbody>\n",
       "</table>\n",
       "</div>"
      ],
      "text/plain": [
       "   label     note                                           geometry  label2  \\\n",
       "0      1  glacier  POLYGON ((630019.737 7747367.105, 630896.053 7...       6   \n",
       "1      2  debries  POLYGON ((631944.079 7740883.553, 632169.079 7...       7   \n",
       "2      3     rock  POLYGON ((625330.263 7741517.105, 625780.263 7...       8   \n",
       "\n",
       "       area                                           boundary  \\\n",
       "0  3.099765  LINESTRING (630019.737 7747367.105, 630896.053...   \n",
       "1  0.151314  LINESTRING (631944.079 7740883.553, 632169.079...   \n",
       "2  0.676496  LINESTRING (625330.263 7741517.105, 625780.263...   \n",
       "\n",
       "                         centroid  \n",
       "0  POINT (630375.400 7746334.905)  \n",
       "1  POINT (631925.346 7740645.252)  \n",
       "2  POINT (625216.784 7741106.275)  "
      ]
     },
     "execution_count": 15,
     "metadata": {},
     "output_type": "execute_result"
    }
   ],
   "source": [
    "gdf"
   ]
  },
  {
   "cell_type": "code",
   "execution_count": 16,
   "id": "4de52010",
   "metadata": {},
   "outputs": [
    {
     "data": {
      "text/plain": [
       "7746334.904851707"
      ]
     },
     "execution_count": 16,
     "metadata": {},
     "output_type": "execute_result"
    }
   ],
   "source": [
    "gdf['centroid'].iloc[0].y"
   ]
  },
  {
   "cell_type": "code",
   "execution_count": 17,
   "id": "6480ff0e",
   "metadata": {},
   "outputs": [
    {
     "data": {
      "text/plain": [
       "(630375.400022858, 7746334.904851707)"
      ]
     },
     "execution_count": 17,
     "metadata": {},
     "output_type": "execute_result"
    }
   ],
   "source": [
    "# coordinates of the first centroid\n",
    "gdf['centroid'].iloc[0].x, gdf['centroid'].iloc[0].y"
   ]
  },
  {
   "cell_type": "markdown",
   "id": "712f5474",
   "metadata": {},
   "source": [
    "### Measuring distance"
   ]
  },
  {
   "cell_type": "code",
   "execution_count": 18,
   "id": "afb15bcc",
   "metadata": {},
   "outputs": [
    {
     "data": {
      "text/plain": [
       "630375.400022858"
      ]
     },
     "execution_count": 18,
     "metadata": {},
     "output_type": "execute_result"
    }
   ],
   "source": [
    "first_point = gdf['centroid'].iloc[0]\n",
    "first_point.x"
   ]
  },
  {
   "cell_type": "code",
   "execution_count": 19,
   "id": "b17fcaf1",
   "metadata": {},
   "outputs": [
    {
     "data": {
      "text/plain": [
       "0       0.000000\n",
       "1    5896.989221\n",
       "2    7345.058814\n",
       "Name: distance, dtype: float64"
      ]
     },
     "execution_count": 19,
     "metadata": {},
     "output_type": "execute_result"
    }
   ],
   "source": [
    "gdf['distance'] = gdf['centroid'].distance(first_point)\n",
    "gdf['distance']"
   ]
  },
  {
   "cell_type": "markdown",
   "id": "8f1a3903",
   "metadata": {},
   "source": [
    "## Plotting maps"
   ]
  },
  {
   "cell_type": "code",
   "execution_count": 20,
   "id": "93ec8075",
   "metadata": {},
   "outputs": [
    {
     "data": {
      "text/plain": [
       "<Axes: >"
      ]
     },
     "execution_count": 20,
     "metadata": {},
     "output_type": "execute_result"
    },
    {
     "data": {
      "image/png": "[encoded data removed]",
      "text/plain": [
       "<Figure size 1000x1000 with 2 Axes>"
      ]
     },
     "metadata": {},
     "output_type": "display_data"
    }
   ],
   "source": [
    "gdf.plot(\"area\", legend=True, figsize=(10,10))"
   ]
  },
  {
   "cell_type": "markdown",
   "id": "df307a4b",
   "metadata": {},
   "source": [
    "## Geometry creation (constructor)"
   ]
  },
  {
   "cell_type": "code",
   "execution_count": 21,
   "id": "cf585519",
   "metadata": {},
   "outputs": [
    {
     "data": {
      "text/html": [
       "<div>\n",
       "<style scoped>\n",
       "    .dataframe tbody tr th:only-of-type {\n",
       "        vertical-align: middle;\n",
       "    }\n",
       "\n",
       "    .dataframe tbody tr th {\n",
       "        vertical-align: top;\n",
       "    }\n",
       "\n",
       "    .dataframe thead th {\n",
       "        text-align: right;\n",
       "    }\n",
       "</style>\n",
       "<table border=\"1\" class=\"dataframe\">\n",
       "  <thead>\n",
       "    <tr style=\"text-align: right;\">\n",
       "      <th></th>\n",
       "      <th>label</th>\n",
       "      <th>note</th>\n",
       "      <th>geometry</th>\n",
       "      <th>label2</th>\n",
       "      <th>area</th>\n",
       "      <th>boundary</th>\n",
       "      <th>centroid</th>\n",
       "      <th>distance</th>\n",
       "    </tr>\n",
       "  </thead>\n",
       "  <tbody>\n",
       "    <tr>\n",
       "      <th>0</th>\n",
       "      <td>1</td>\n",
       "      <td>glacier</td>\n",
       "      <td>POLYGON ((630019.737 7747367.105, 630896.053 7...</td>\n",
       "      <td>6</td>\n",
       "      <td>3.099765</td>\n",
       "      <td>LINESTRING (630019.737 7747367.105, 630896.053...</td>\n",
       "      <td>POINT (630375.400 7746334.905)</td>\n",
       "      <td>0.000000</td>\n",
       "    </tr>\n",
       "    <tr>\n",
       "      <th>1</th>\n",
       "      <td>2</td>\n",
       "      <td>debries</td>\n",
       "      <td>POLYGON ((631944.079 7740883.553, 632169.079 7...</td>\n",
       "      <td>7</td>\n",
       "      <td>0.151314</td>\n",
       "      <td>LINESTRING (631944.079 7740883.553, 632169.079...</td>\n",
       "      <td>POINT (631925.346 7740645.252)</td>\n",
       "      <td>5896.989221</td>\n",
       "    </tr>\n",
       "    <tr>\n",
       "      <th>2</th>\n",
       "      <td>3</td>\n",
       "      <td>rock</td>\n",
       "      <td>POLYGON ((625330.263 7741517.105, 625780.263 7...</td>\n",
       "      <td>8</td>\n",
       "      <td>0.676496</td>\n",
       "      <td>LINESTRING (625330.263 7741517.105, 625780.263...</td>\n",
       "      <td>POINT (625216.784 7741106.275)</td>\n",
       "      <td>7345.058814</td>\n",
       "    </tr>\n",
       "  </tbody>\n",
       "</table>\n",
       "</div>"
      ],
      "text/plain": [
       "   label     note                                           geometry  label2  \\\n",
       "0      1  glacier  POLYGON ((630019.737 7747367.105, 630896.053 7...       6   \n",
       "1      2  debries  POLYGON ((631944.079 7740883.553, 632169.079 7...       7   \n",
       "2      3     rock  POLYGON ((625330.263 7741517.105, 625780.263 7...       8   \n",
       "\n",
       "       area                                           boundary  \\\n",
       "0  3.099765  LINESTRING (630019.737 7747367.105, 630896.053...   \n",
       "1  0.151314  LINESTRING (631944.079 7740883.553, 632169.079...   \n",
       "2  0.676496  LINESTRING (625330.263 7741517.105, 625780.263...   \n",
       "\n",
       "                         centroid     distance  \n",
       "0  POINT (630375.400 7746334.905)     0.000000  \n",
       "1  POINT (631925.346 7740645.252)  5896.989221  \n",
       "2  POINT (625216.784 7741106.275)  7345.058814  "
      ]
     },
     "execution_count": 21,
     "metadata": {},
     "output_type": "execute_result"
    }
   ],
   "source": [
    "gdf.head()"
   ]
  },
  {
   "cell_type": "code",
   "execution_count": 22,
   "id": "6d5837fb",
   "metadata": {
    "scrolled": true
   },
   "outputs": [],
   "source": [
    "# prepare ne df with coordinates\n",
    "x = gdf['centroid'].x\n",
    "y = gdf['centroid'].y\n",
    "xy=pd.concat([x,y],axis=1)\n",
    "xy.columns = ['x', 'y']"
   ]
  },
  {
   "cell_type": "code",
   "execution_count": 23,
   "id": "92e3365b",
   "metadata": {},
   "outputs": [
    {
     "data": {
      "text/html": [
       "<div>\n",
       "<style scoped>\n",
       "    .dataframe tbody tr th:only-of-type {\n",
       "        vertical-align: middle;\n",
       "    }\n",
       "\n",
       "    .dataframe tbody tr th {\n",
       "        vertical-align: top;\n",
       "    }\n",
       "\n",
       "    .dataframe thead th {\n",
       "        text-align: right;\n",
       "    }\n",
       "</style>\n",
       "<table border=\"1\" class=\"dataframe\">\n",
       "  <thead>\n",
       "    <tr style=\"text-align: right;\">\n",
       "      <th></th>\n",
       "      <th>x</th>\n",
       "      <th>y</th>\n",
       "    </tr>\n",
       "  </thead>\n",
       "  <tbody>\n",
       "    <tr>\n",
       "      <th>0</th>\n",
       "      <td>630375.400023</td>\n",
       "      <td>7.746335e+06</td>\n",
       "    </tr>\n",
       "    <tr>\n",
       "      <th>1</th>\n",
       "      <td>631925.345867</td>\n",
       "      <td>7.740645e+06</td>\n",
       "    </tr>\n",
       "    <tr>\n",
       "      <th>2</th>\n",
       "      <td>625216.784499</td>\n",
       "      <td>7.741106e+06</td>\n",
       "    </tr>\n",
       "  </tbody>\n",
       "</table>\n",
       "</div>"
      ],
      "text/plain": [
       "               x             y\n",
       "0  630375.400023  7.746335e+06\n",
       "1  631925.345867  7.740645e+06\n",
       "2  625216.784499  7.741106e+06"
      ]
     },
     "execution_count": 23,
     "metadata": {},
     "output_type": "execute_result"
    }
   ],
   "source": [
    "xy"
   ]
  },
  {
   "cell_type": "code",
   "execution_count": 24,
   "id": "7f89d52e",
   "metadata": {},
   "outputs": [
    {
     "data": {
      "text/html": [
       "<div>\n",
       "<style scoped>\n",
       "    .dataframe tbody tr th:only-of-type {\n",
       "        vertical-align: middle;\n",
       "    }\n",
       "\n",
       "    .dataframe tbody tr th {\n",
       "        vertical-align: top;\n",
       "    }\n",
       "\n",
       "    .dataframe thead th {\n",
       "        text-align: right;\n",
       "    }\n",
       "</style>\n",
       "<table border=\"1\" class=\"dataframe\">\n",
       "  <thead>\n",
       "    <tr style=\"text-align: right;\">\n",
       "      <th></th>\n",
       "      <th>x</th>\n",
       "      <th>y</th>\n",
       "      <th>geometry</th>\n",
       "    </tr>\n",
       "  </thead>\n",
       "  <tbody>\n",
       "    <tr>\n",
       "      <th>0</th>\n",
       "      <td>630375.400023</td>\n",
       "      <td>7.746335e+06</td>\n",
       "      <td>POINT (630375.400 7746334.905)</td>\n",
       "    </tr>\n",
       "    <tr>\n",
       "      <th>1</th>\n",
       "      <td>631925.345867</td>\n",
       "      <td>7.740645e+06</td>\n",
       "      <td>POINT (631925.346 7740645.252)</td>\n",
       "    </tr>\n",
       "    <tr>\n",
       "      <th>2</th>\n",
       "      <td>625216.784499</td>\n",
       "      <td>7.741106e+06</td>\n",
       "      <td>POINT (625216.784 7741106.275)</td>\n",
       "    </tr>\n",
       "  </tbody>\n",
       "</table>\n",
       "</div>"
      ],
      "text/plain": [
       "               x             y                        geometry\n",
       "0  630375.400023  7.746335e+06  POINT (630375.400 7746334.905)\n",
       "1  631925.345867  7.740645e+06  POINT (631925.346 7740645.252)\n",
       "2  625216.784499  7.741106e+06  POINT (625216.784 7741106.275)"
      ]
     },
     "execution_count": 24,
     "metadata": {},
     "output_type": "execute_result"
    }
   ],
   "source": [
    "xy_geometry = geopandas.GeoDataFrame(\n",
    "                xy, geometry=geopandas.points_from_xy(xy['x'], xy['y']))\n",
    "xy_geometry.head()"
   ]
  },
  {
   "cell_type": "markdown",
   "id": "fbf99d85",
   "metadata": {},
   "source": [
    "#### Buffer"
   ]
  },
  {
   "cell_type": "code",
   "execution_count": 25,
   "id": "2a5e3104",
   "metadata": {},
   "outputs": [
    {
     "data": {
      "text/html": [
       "<div>\n",
       "<style scoped>\n",
       "    .dataframe tbody tr th:only-of-type {\n",
       "        vertical-align: middle;\n",
       "    }\n",
       "\n",
       "    .dataframe tbody tr th {\n",
       "        vertical-align: top;\n",
       "    }\n",
       "\n",
       "    .dataframe thead th {\n",
       "        text-align: right;\n",
       "    }\n",
       "</style>\n",
       "<table border=\"1\" class=\"dataframe\">\n",
       "  <thead>\n",
       "    <tr style=\"text-align: right;\">\n",
       "      <th></th>\n",
       "      <th>x</th>\n",
       "      <th>y</th>\n",
       "      <th>geometry</th>\n",
       "      <th>buffer</th>\n",
       "    </tr>\n",
       "  </thead>\n",
       "  <tbody>\n",
       "    <tr>\n",
       "      <th>0</th>\n",
       "      <td>630375.400023</td>\n",
       "      <td>7.746335e+06</td>\n",
       "      <td>POINT (630375.400 7746334.905)</td>\n",
       "      <td>POLYGON ((631375.400 7746334.905, 631370.585 7...</td>\n",
       "    </tr>\n",
       "    <tr>\n",
       "      <th>1</th>\n",
       "      <td>631925.345867</td>\n",
       "      <td>7.740645e+06</td>\n",
       "      <td>POINT (631925.346 7740645.252)</td>\n",
       "      <td>POLYGON ((632925.346 7740645.252, 632920.531 7...</td>\n",
       "    </tr>\n",
       "    <tr>\n",
       "      <th>2</th>\n",
       "      <td>625216.784499</td>\n",
       "      <td>7.741106e+06</td>\n",
       "      <td>POINT (625216.784 7741106.275)</td>\n",
       "      <td>POLYGON ((626216.784 7741106.275, 626211.969 7...</td>\n",
       "    </tr>\n",
       "  </tbody>\n",
       "</table>\n",
       "</div>"
      ],
      "text/plain": [
       "               x             y                        geometry  \\\n",
       "0  630375.400023  7.746335e+06  POINT (630375.400 7746334.905)   \n",
       "1  631925.345867  7.740645e+06  POINT (631925.346 7740645.252)   \n",
       "2  625216.784499  7.741106e+06  POINT (625216.784 7741106.275)   \n",
       "\n",
       "                                              buffer  \n",
       "0  POLYGON ((631375.400 7746334.905, 631370.585 7...  \n",
       "1  POLYGON ((632925.346 7740645.252, 632920.531 7...  \n",
       "2  POLYGON ((626216.784 7741106.275, 626211.969 7...  "
      ]
     },
     "execution_count": 25,
     "metadata": {},
     "output_type": "execute_result"
    }
   ],
   "source": [
    "xy_geometry[\"buffer\"] = xy_geometry.buffer(1000)\n",
    "xy_geometry.head()"
   ]
  },
  {
   "cell_type": "code",
   "execution_count": 26,
   "id": "e603641f",
   "metadata": {},
   "outputs": [
    {
     "data": {
      "text/plain": [
       "<Axes: >"
      ]
     },
     "execution_count": 26,
     "metadata": {},
     "output_type": "execute_result"
    },
    {
     "data": {
      "image/png": "[encoded data removed]",
      "text/plain": [
       "<Figure size 640x480 with 1 Axes>"
      ]
     },
     "metadata": {},
     "output_type": "display_data"
    }
   ],
   "source": [
    "ax = xy_geometry[\"buffer\"].plot(alpha=.5)\n",
    "xy_geometry[\"geometry\"].plot(ax=ax, color=\"red\") "
   ]
  },
  {
   "cell_type": "code",
   "execution_count": null,
   "id": "91f01937",
   "metadata": {},
   "outputs": [],
   "source": [
    "# and so on ... "
   ]
  },
  {
   "cell_type": "code",
   "execution_count": null,
   "id": "3d54d8ba",
   "metadata": {},
   "outputs": [],
   "source": []
  }
 ],
 "metadata": {
  "kernelspec": {
   "display_name": "Python 3 (ipykernel)",
   "language": "python",
   "name": "python3"
  },
  "language_info": {
   "codemirror_mode": {
    "name": "ipython",
    "version": 3
   },
   "file_extension": ".py",
   "mimetype": "text/x-python",
   "name": "python",
   "nbconvert_exporter": "python",
   "pygments_lexer": "ipython3",
   "version": "3.11.2"
  }
 },
 "nbformat": 4,
 "nbformat_minor": 5
}
