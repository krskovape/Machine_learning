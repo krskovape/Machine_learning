{
 "cells": [
  {
   "cell_type": "markdown",
   "metadata": {},
   "source": [
    "# ___\n",
    "\n",
    "# [ Python self-test]\n",
    "\n",
    "**Department of Applied Geoinformatics and Carthography, Charles University** \n",
    "\n",
    "*Lukas Brodsky lukas.brodsky@natur.cuni.cz*\n",
    "\n",
    "\n",
    "___"
   ]
  },
  {
   "cell_type": "markdown",
   "metadata": {},
   "source": [
    "This is a collection of various basic Python programming exercises.  Python is needed in various courses as for instanbce in Machine Learnign for Geosciences. Students are expected to self-evaluate their knowledge and possibly navigate to topices needed to improve. "
   ]
  },
  {
   "cell_type": "markdown",
   "metadata": {},
   "source": [
    "Code cells are empty or partly developed. It is expected that student will fill-in the corresponding part to get correct result. The expected result is printed blow. Each section where students shall enter their solution is commented by `# complete here`. \n",
    "\n",
    "Run each completed box by pressing shift-enter or using the play button in the toolbar."
   ]
  },
  {
   "cell_type": "markdown",
   "metadata": {},
   "source": [
    "### Variable assigment "
   ]
  },
  {
   "cell_type": "code",
   "execution_count": 1,
   "metadata": {},
   "outputs": [
    {
     "name": "stdout",
     "output_type": "stream",
     "text": [
      "5\n"
     ]
    }
   ],
   "source": [
    "# create a varable a and assign value of 5 to it \n",
    "# complete here\n",
    "a=5\n",
    "print(a)"
   ]
  },
  {
   "cell_type": "markdown",
   "metadata": {},
   "source": [
    "### Numerical data types"
   ]
  },
  {
   "cell_type": "code",
   "execution_count": 5,
   "metadata": {},
   "outputs": [],
   "source": [
    "x = 1.0"
   ]
  },
  {
   "cell_type": "code",
   "execution_count": 6,
   "metadata": {},
   "outputs": [
    {
     "data": {
      "text/plain": [
       "float"
      ]
     },
     "execution_count": 6,
     "metadata": {},
     "output_type": "execute_result"
    }
   ],
   "source": [
    "# print type of x\n",
    "# complete here\n",
    "type(x)"
   ]
  },
  {
   "cell_type": "code",
   "execution_count": 7,
   "metadata": {},
   "outputs": [
    {
     "data": {
      "text/plain": [
       "float"
      ]
     },
     "execution_count": 7,
     "metadata": {},
     "output_type": "execute_result"
    }
   ],
   "source": [
    "# convert x to float and print its type\n",
    "x = '11'\n",
    "# complete here\n",
    "x = float(x)\n",
    "type(x)"
   ]
  },
  {
   "cell_type": "markdown",
   "metadata": {},
   "source": [
    "### Operators"
   ]
  },
  {
   "cell_type": "code",
   "execution_count": null,
   "metadata": {},
   "outputs": [],
   "source": [
    "# +  -  *  / "
   ]
  },
  {
   "cell_type": "code",
   "execution_count": 8,
   "metadata": {},
   "outputs": [
    {
     "name": "stdout",
     "output_type": "stream",
     "text": [
      "3\n"
     ]
    }
   ],
   "source": [
    "# assign y to 1 plus 2\n",
    "# complete here\n",
    "y=1+2\n",
    "print(y)"
   ]
  },
  {
   "cell_type": "code",
   "execution_count": 9,
   "metadata": {},
   "outputs": [
    {
     "name": "stdout",
     "output_type": "stream",
     "text": [
      "-1\n"
     ]
    }
   ],
   "source": [
    "# assign y to 1 mius 2\n",
    "# complete here\n",
    "y=1-2\n",
    "print(y)"
   ]
  },
  {
   "cell_type": "code",
   "execution_count": 10,
   "metadata": {},
   "outputs": [
    {
     "name": "stdout",
     "output_type": "stream",
     "text": [
      "6\n"
     ]
    }
   ],
   "source": [
    "# assign y to 2 multiplied 3\n",
    "# complete here\n",
    "y=2*3\n",
    "print(y)"
   ]
  },
  {
   "cell_type": "code",
   "execution_count": 11,
   "metadata": {},
   "outputs": [
    {
     "name": "stdout",
     "output_type": "stream",
     "text": [
      "0.6666666666666666\n"
     ]
    }
   ],
   "source": [
    "# assign y to 2 divided 3\n",
    "# complete here\n",
    "y=2/3\n",
    "print(y)"
   ]
  },
  {
   "cell_type": "code",
   "execution_count": 12,
   "metadata": {},
   "outputs": [
    {
     "name": "stdout",
     "output_type": "stream",
     "text": [
      "1.5\n"
     ]
    }
   ],
   "source": [
    "# integer division of float numbers\n",
    "# assign y to 3.0 divided by 2.0\n",
    "# complete here\n",
    "y=3.0/2.0\n",
    "print(y)"
   ]
  },
  {
   "cell_type": "code",
   "execution_count": 30,
   "metadata": {},
   "outputs": [
    {
     "name": "stdout",
     "output_type": "stream",
     "text": [
      "8\n"
     ]
    }
   ],
   "source": [
    "# power operator\n",
    "# assign y to 2 to the power of 3 \n",
    "# complete here\n",
    "y=2**3\n",
    "print(y)"
   ]
  },
  {
   "cell_type": "code",
   "execution_count": 17,
   "metadata": {},
   "outputs": [
    {
     "name": "stdout",
     "output_type": "stream",
     "text": [
      "False\n"
     ]
    }
   ],
   "source": [
    "# binary AND \n",
    "# assign y to logical poration:true AND false\n",
    "# complete here\n",
    "y=True and False\n",
    "print(y)"
   ]
  },
  {
   "cell_type": "code",
   "execution_count": 16,
   "metadata": {},
   "outputs": [
    {
     "name": "stdout",
     "output_type": "stream",
     "text": [
      "True\n"
     ]
    }
   ],
   "source": [
    "# negation \n",
    "# assing y to not false \n",
    "# complete here\n",
    "y=not False\n",
    "print(y)"
   ]
  },
  {
   "cell_type": "code",
   "execution_count": 18,
   "metadata": {},
   "outputs": [
    {
     "name": "stdout",
     "output_type": "stream",
     "text": [
      "True\n"
     ]
    }
   ],
   "source": [
    "# bianry OR\n",
    "# assign y to logical opeartion true OR false\n",
    "# complete here\n",
    "y=True or False\n",
    "print(y)"
   ]
  },
  {
   "cell_type": "markdown",
   "metadata": {},
   "source": [
    "### Predicats"
   ]
  },
  {
   "cell_type": "code",
   "execution_count": 21,
   "metadata": {},
   "outputs": [
    {
     "data": {
      "text/plain": [
       "True"
      ]
     },
     "execution_count": 21,
     "metadata": {},
     "output_type": "execute_result"
    }
   ],
   "source": [
    "# Compare and evaluate if 2 higher than 1\n",
    "# complete here\n",
    "2>1"
   ]
  },
  {
   "cell_type": "code",
   "execution_count": 22,
   "metadata": {},
   "outputs": [
    {
     "data": {
      "text/plain": [
       "True"
      ]
     },
     "execution_count": 22,
     "metadata": {},
     "output_type": "execute_result"
    }
   ],
   "source": [
    "# Compare and evaluate if 2 smaller or equal to two\n",
    "# complete here\n",
    "2<=2"
   ]
  },
  {
   "cell_type": "code",
   "execution_count": 25,
   "metadata": {},
   "outputs": [
    {
     "data": {
      "text/plain": [
       "True"
      ]
     },
     "execution_count": 25,
     "metadata": {},
     "output_type": "execute_result"
    }
   ],
   "source": [
    "# Equality comparison\n",
    "# Compare and evaluate if list [1,2] is equal to [1,2]\n",
    "# complete here\n",
    "[1,2] == [1,2]"
   ]
  },
  {
   "cell_type": "code",
   "execution_count": 26,
   "metadata": {},
   "outputs": [
    {
     "data": {
      "text/plain": [
       "False"
      ]
     },
     "execution_count": 26,
     "metadata": {},
     "output_type": "execute_result"
    }
   ],
   "source": [
    "# Equality comparison\n",
    "# Compare and evaluate if 3 is equal to false?\n",
    "# complete here\n",
    "3==False"
   ]
  },
  {
   "cell_type": "code",
   "execution_count": 27,
   "metadata": {},
   "outputs": [
    {
     "data": {
      "text/plain": [
       "True"
      ]
     },
     "execution_count": 27,
     "metadata": {},
     "output_type": "execute_result"
    }
   ],
   "source": [
    "# Compare and evaluate if 1 is equal to true?\n",
    "# complete here\n",
    "1==True"
   ]
  },
  {
   "cell_type": "markdown",
   "metadata": {},
   "source": [
    "### Strings"
   ]
  },
  {
   "cell_type": "code",
   "execution_count": 28,
   "metadata": {},
   "outputs": [
    {
     "name": "stdout",
     "output_type": "stream",
     "text": [
      "Hello world\n"
     ]
    }
   ],
   "source": [
    "# Assign string 'Hello world' to variable s\n",
    "# complete here\n",
    "s='Hello world'\n",
    "print(s)"
   ]
  },
  {
   "cell_type": "code",
   "execution_count": 29,
   "metadata": {},
   "outputs": [
    {
     "data": {
      "text/plain": [
       "11"
      ]
     },
     "execution_count": 29,
     "metadata": {},
     "output_type": "execute_result"
    }
   ],
   "source": [
    "# How long is the variable s? \n",
    "# complete here\n",
    "len(s)"
   ]
  },
  {
   "cell_type": "code",
   "execution_count": 38,
   "metadata": {},
   "outputs": [
    {
     "name": "stdout",
     "output_type": "stream",
     "text": [
      "Hello test\n"
     ]
    }
   ],
   "source": [
    "# Replace the string world with string 'test' and print the result\n",
    "s2 = s.replace(\"world\", \"test\")\n",
    "print(s2)"
   ]
  },
  {
   "cell_type": "code",
   "execution_count": 33,
   "metadata": {},
   "outputs": [
    {
     "name": "stdout",
     "output_type": "stream",
     "text": [
      "H\n"
     ]
    }
   ],
   "source": [
    "# Select and print the first element of string s \n",
    "# complete here\n",
    "print(s[0])"
   ]
  },
  {
   "cell_type": "code",
   "execution_count": 34,
   "metadata": {},
   "outputs": [
    {
     "name": "stdout",
     "output_type": "stream",
     "text": [
      "d\n"
     ]
    }
   ],
   "source": [
    "# Select and print the last element of string s \n",
    "# complete here\n",
    "print(s[-1])"
   ]
  },
  {
   "cell_type": "code",
   "execution_count": 37,
   "metadata": {},
   "outputs": [
    {
     "data": {
      "text/plain": [
       "'Hello'"
      ]
     },
     "execution_count": 37,
     "metadata": {},
     "output_type": "execute_result"
    }
   ],
   "source": [
    "# Select and print the first five elements of string s \n",
    "# complete here\n",
    "s[:5]"
   ]
  },
  {
   "cell_type": "code",
   "execution_count": 40,
   "metadata": {},
   "outputs": [
    {
     "data": {
      "text/plain": [
       "'world'"
      ]
     },
     "execution_count": 40,
     "metadata": {},
     "output_type": "execute_result"
    }
   ],
   "source": [
    "# Select and print the last five elements of string s \n",
    "# complete here\n",
    "s[-5:]"
   ]
  },
  {
   "cell_type": "code",
   "execution_count": 43,
   "metadata": {},
   "outputs": [
    {
     "data": {
      "text/plain": [
       "'Hlowrd'"
      ]
     },
     "execution_count": 43,
     "metadata": {},
     "output_type": "execute_result"
    }
   ],
   "source": [
    "# Define step size of 2 and print the extract (every second letter) from string\n",
    "# complete here\n",
    "s[::2]"
   ]
  },
  {
   "cell_type": "code",
   "execution_count": 44,
   "metadata": {},
   "outputs": [
    {
     "data": {
      "text/plain": [
       "'/data/experiment/data.csv'"
      ]
     },
     "execution_count": 44,
     "metadata": {},
     "output_type": "execute_result"
    }
   ],
   "source": [
    "# Join two strings using Python package os to create full path to the file \n",
    "# '/data/experiment/' \n",
    "# 'data.csv'\n",
    "import os\n",
    "# complete here\n",
    "os.path.join(\"/data/experiment/\",\"data.csv\")"
   ]
  },
  {
   "cell_type": "code",
   "execution_count": 49,
   "metadata": {},
   "outputs": [
    {
     "name": "stdout",
     "output_type": "stream",
     "text": [
      "3.142\n"
     ]
    }
   ],
   "source": [
    "# Format the following float variable to 3 decimals in print statement\n",
    "# complete here\n",
    "var = 3.14159\n",
    "print(\"%.3f\" % var)"
   ]
  },
  {
   "cell_type": "code",
   "execution_count": 50,
   "metadata": {},
   "outputs": [
    {
     "data": {
      "text/plain": [
       "3.14"
      ]
     },
     "execution_count": 50,
     "metadata": {},
     "output_type": "execute_result"
    }
   ],
   "source": [
    "# Round loat variable to 2 decimals \n",
    "# complete here\n",
    "var = 3.14159\n",
    "round(var,2)"
   ]
  },
  {
   "cell_type": "markdown",
   "metadata": {},
   "source": [
    "### Lists"
   ]
  },
  {
   "cell_type": "code",
   "execution_count": 51,
   "metadata": {},
   "outputs": [
    {
     "name": "stdout",
     "output_type": "stream",
     "text": [
      "[1, 2, 3, 4]\n"
     ]
    }
   ],
   "source": [
    "# Create list variable l of numbers 1,2,3,4 and print it\n",
    "# complete here\n",
    "l = [1,2,3,4]\n",
    "print(l)"
   ]
  },
  {
   "cell_type": "code",
   "execution_count": 56,
   "metadata": {},
   "outputs": [
    {
     "name": "stdout",
     "output_type": "stream",
     "text": [
      "[2, 3]\n"
     ]
    }
   ],
   "source": [
    "# Print second to third elements of list l \n",
    "# complete here\n",
    "print(l[1:3])"
   ]
  },
  {
   "cell_type": "code",
   "execution_count": 57,
   "metadata": {},
   "outputs": [
    {
     "name": "stdout",
     "output_type": "stream",
     "text": [
      "[1, 2]\n"
     ]
    }
   ],
   "source": [
    "# Print first two elements of list l \n",
    "# complete here\n",
    "print(l[:2])"
   ]
  },
  {
   "cell_type": "code",
   "execution_count": 58,
   "metadata": {},
   "outputs": [
    {
     "name": "stdout",
     "output_type": "stream",
     "text": [
      "2\n"
     ]
    }
   ],
   "source": [
    "# Print first element of list l \n",
    "# complete here\n",
    "print(l[1])"
   ]
  },
  {
   "cell_type": "code",
   "execution_count": 59,
   "metadata": {},
   "outputs": [
    {
     "name": "stdout",
     "output_type": "stream",
     "text": [
      "[1, 'a', 1.0, (1, 2)]\n"
     ]
    }
   ],
   "source": [
    "# Don't have to be the same type\n",
    "# create list l of mixed data types: integer, string, float, tuple of numbers 1 and 2\n",
    "# complete here\n",
    "l = [1, 'a', 1.0, (1, 2)]\n",
    "print(l)"
   ]
  },
  {
   "cell_type": "code",
   "execution_count": 62,
   "metadata": {},
   "outputs": [
    {
     "name": "stdout",
     "output_type": "stream",
     "text": [
      "[10, 12, 14, 16, 18, 20, 22, 24, 26, 28]\n"
     ]
    }
   ],
   "source": [
    "# Create list of series (named series) starting at 10, ending at 30 with step 2\n",
    "# use range operator\n",
    "start = 10\n",
    "stop = 30\n",
    "step = 2\n",
    "\n",
    "# complete here\n",
    "series = range(start,stop,step)\n",
    "print(list(series))"
   ]
  },
  {
   "cell_type": "code",
   "execution_count": 70,
   "metadata": {},
   "outputs": [
    {
     "name": "stdout",
     "output_type": "stream",
     "text": [
      "[]\n"
     ]
    }
   ],
   "source": [
    "# Create a new empty list l \n",
    "# complete here\n",
    "l=[]\n",
    "print(l)"
   ]
  },
  {
   "cell_type": "code",
   "execution_count": 71,
   "metadata": {},
   "outputs": [
    {
     "name": "stdout",
     "output_type": "stream",
     "text": [
      "['A', 'B', 'C']\n"
     ]
    }
   ],
   "source": [
    "# Add an elements 'A' to the list, than 'B' and 'C'\n",
    "# complete here\n",
    "l.append(\"A\")\n",
    "l.append(\"B\")\n",
    "l.append(\"C\")\n",
    "\n",
    "print(l)"
   ]
  },
  {
   "cell_type": "code",
   "execution_count": 72,
   "metadata": {},
   "outputs": [
    {
     "name": "stdout",
     "output_type": "stream",
     "text": [
      "['A', 'b', 'c']\n"
     ]
    }
   ],
   "source": [
    "# Replace second element with 'b' and third element with 'c'\n",
    "# complete here\n",
    "l[1] = \"b\"\n",
    "l[2] = \"c\"\n",
    "print(l)"
   ]
  },
  {
   "cell_type": "code",
   "execution_count": 73,
   "metadata": {},
   "outputs": [
    {
     "name": "stdout",
     "output_type": "stream",
     "text": [
      "['i', 'n', 'A', 'b', 'c']\n"
     ]
    }
   ],
   "source": [
    "# Insert 'i' at the first element of the list l \n",
    "# insert 'n' at the second element of the list l \n",
    "# complete here\n",
    "l.insert(0,\"i\")\n",
    "l.insert(1,\"n\")\n",
    "\n",
    "print(l)"
   ]
  },
  {
   "cell_type": "code",
   "execution_count": 74,
   "metadata": {},
   "outputs": [
    {
     "name": "stdout",
     "output_type": "stream",
     "text": [
      "['i', 'n', 'b', 'c']\n"
     ]
    }
   ],
   "source": [
    "# Remove element 'A' \n",
    "# complete here\n",
    "l.remove(\"A\")\n",
    "print(l)"
   ]
  },
  {
   "cell_type": "code",
   "execution_count": 75,
   "metadata": {},
   "outputs": [
    {
     "name": "stdout",
     "output_type": "stream",
     "text": [
      "['i', 'n', 'c']\n"
     ]
    }
   ],
   "source": [
    "# Delete the third element \n",
    "# complete here\n",
    "l.pop(2)\n",
    "\n",
    "print(l)"
   ]
  },
  {
   "cell_type": "markdown",
   "metadata": {},
   "source": [
    "### Tuples"
   ]
  },
  {
   "cell_type": "code",
   "execution_count": 81,
   "metadata": {},
   "outputs": [
    {
     "name": "stdout",
     "output_type": "stream",
     "text": [
      "(10, 20)\n"
     ]
    }
   ],
   "source": [
    "# Create tuple point with slcalars 10 and 20 \n",
    "# complete here\n",
    "point = (10,20)\n",
    "print(point) "
   ]
  },
  {
   "cell_type": "code",
   "execution_count": 82,
   "metadata": {},
   "outputs": [
    {
     "name": "stdout",
     "output_type": "stream",
     "text": [
      "x = 10\n",
      "y = 20\n"
     ]
    }
   ],
   "source": [
    "# Unpack the values of point into x and y and print the values \n",
    "# complete here\n",
    "x = point[0]\n",
    "y = point[1]\n",
    "\n",
    "print(\"x =\", x)\n",
    "print(\"y =\", y)"
   ]
  },
  {
   "cell_type": "markdown",
   "metadata": {},
   "source": [
    "### Dictionaries"
   ]
  },
  {
   "cell_type": "code",
   "execution_count": 83,
   "metadata": {},
   "outputs": [
    {
     "name": "stdout",
     "output_type": "stream",
     "text": [
      "{'theta1': 1.0, 'theta2': 2.0, 'theta3': 3.0}\n"
     ]
    }
   ],
   "source": [
    "# Create dictionary params with three items: \n",
    "# theta1 equal to 1.0 \n",
    "# theta2 equal to 2.0 \n",
    "# theta3 equal to 3.0 \n",
    "# complete here \n",
    "params = {\"theta1\":1.0, \"theta2\":2.0, \"theta3\":3.0}\n",
    "\n",
    "print(params)"
   ]
  },
  {
   "cell_type": "code",
   "execution_count": 85,
   "metadata": {},
   "outputs": [
    {
     "name": "stdout",
     "output_type": "stream",
     "text": [
      "{'theta1': 1.0, 'theta2': 2.0, 'theta3': 3.0, 'bias': 5.0}\n"
     ]
    }
   ],
   "source": [
    "# Add one element to the dictionary params: \n",
    "# bias equal to 5.0 \n",
    "# complete here \n",
    "params.update({\"bias\":5.0})\n",
    "print(params)"
   ]
  },
  {
   "cell_type": "markdown",
   "metadata": {},
   "source": [
    "### Control Flow"
   ]
  },
  {
   "cell_type": "code",
   "execution_count": 86,
   "metadata": {},
   "outputs": [
    {
     "name": "stdout",
     "output_type": "stream",
     "text": [
      "Neither is true.\n"
     ]
    }
   ],
   "source": [
    "# Create if else statment\n",
    "# first evaluation is based on statement1, print the value of statement\n",
    "# second evaluation is based on statement2, print the value of statement\n",
    "# print third evaluation with string 'Neither is true.' \n",
    "\n",
    "statement1 = False\n",
    "statement2 = False\n",
    "\n",
    "# complete here \n",
    "if statement1:\n",
    "    print(statement1)\n",
    "elif statement2:\n",
    "    print(statement2)\n",
    "else:\n",
    "    print('Neither is true.')"
   ]
  },
  {
   "cell_type": "markdown",
   "metadata": {},
   "source": [
    "### Loops"
   ]
  },
  {
   "cell_type": "code",
   "execution_count": 88,
   "metadata": {},
   "outputs": [
    {
     "name": "stdout",
     "output_type": "stream",
     "text": [
      "0\n",
      "1\n",
      "2\n",
      "3\n"
     ]
    }
   ],
   "source": [
    "# Create for loop iterating over numbers from 0 to 3, step 1\n",
    "# print the numbers in the loop \n",
    "# complete here\n",
    "for i in range(0,4):\n",
    "    print(i)"
   ]
  },
  {
   "cell_type": "code",
   "execution_count": 89,
   "metadata": {},
   "outputs": [
    {
     "name": "stdout",
     "output_type": "stream",
     "text": [
      "scientific\n",
      "computing\n",
      "with\n",
      "python\n"
     ]
    }
   ],
   "source": [
    "# Create for loop iterating over these strings \"scientific\", \"computing\", \"with\", \"python\"\n",
    "# print the strings in the loop \n",
    "# complete here\n",
    "\n",
    "for i in [\"scientific\", \"computing\", \"with\", \"python\"]:\n",
    "    print(i)"
   ]
  },
  {
   "cell_type": "code",
   "execution_count": 92,
   "metadata": {},
   "outputs": [
    {
     "name": "stdout",
     "output_type": "stream",
     "text": [
      "theta1 = 1.0\n",
      "theta2 = 2.0\n",
      "theta3 = 3.0\n",
      "bias = 5.0\n"
     ]
    }
   ],
   "source": [
    "# Create a loop iterating over elments of dictionary params\n",
    "# print key and value in each step of the loop in a format: key = value\n",
    "# e.g. parameter1 = 1.0\n",
    "\n",
    "# complete here\n",
    "for i,k in params.items():\n",
    "    print(f\"{i} = {k}\")"
   ]
  },
  {
   "cell_type": "code",
   "execution_count": 98,
   "metadata": {},
   "outputs": [
    {
     "name": "stdout",
     "output_type": "stream",
     "text": [
      "0 -3\n",
      "1 -2\n",
      "2 -1\n",
      "3 0\n",
      "4 1\n",
      "5 2\n",
      "6 3\n"
     ]
    }
   ],
   "source": [
    "# Create a loop over range (-3, 3), which prints tuple of index and value \n",
    "# e.g. (0, -3), etc. \n",
    "\n",
    "# complete here\n",
    "for i in range(0,len(range(-3,4,1)),1):\n",
    "    print(i, range(-3,4,1)[i])"
   ]
  },
  {
   "cell_type": "code",
   "execution_count": 94,
   "metadata": {},
   "outputs": [
    {
     "name": "stdout",
     "output_type": "stream",
     "text": [
      "[0, 1, 4, 9, 16]\n"
     ]
    }
   ],
   "source": [
    "# List comprehension \n",
    "# creat a list of values to the power of 2 from range(0,5) using list comprehension \n",
    "\n",
    "# complete here\n",
    "l1 = [x**2 for x in range(0,5)]\n",
    "print(l1)"
   ]
  },
  {
   "cell_type": "code",
   "execution_count": 96,
   "metadata": {},
   "outputs": [
    {
     "name": "stdout",
     "output_type": "stream",
     "text": [
      "0\n",
      "1\n",
      "2\n",
      "3\n",
      "4\n",
      "done\n"
     ]
    }
   ],
   "source": [
    "# Use while loop to iterate from 0 to 4, print the index values\n",
    "# at the end print statement 'done'\n",
    "\n",
    "# complete here\n",
    "i=0\n",
    "while i <= 4:\n",
    "    print(i)\n",
    "    i+=1\n",
    "print(\"done\")"
   ]
  },
  {
   "cell_type": "markdown",
   "metadata": {},
   "source": [
    "### Functions"
   ]
  },
  {
   "cell_type": "code",
   "execution_count": 3,
   "metadata": {},
   "outputs": [
    {
     "name": "stdout",
     "output_type": "stream",
     "text": [
      "hello has 5 characters\n"
     ]
    }
   ],
   "source": [
    "# Create a function func() which takes variable s (string) and print a string 's' and tell how many characters it has\n",
    "# e.g. s has x characters \n",
    "# include a docstring\n",
    "\n",
    "# complete here \n",
    "def func(s):\n",
    "    \"\"\" \n",
    "    Print a string 's' and tell how many characters it has\n",
    "    \"\"\"\n",
    "    print(f\"{s} has {len(s)} characters\")\n",
    "\n",
    "func(\"hello\")"
   ]
  },
  {
   "cell_type": "code",
   "execution_count": 4,
   "metadata": {},
   "outputs": [
    {
     "name": "stdout",
     "output_type": "stream",
     "text": [
      "Help on function func in module __main__:\n",
      "\n",
      "func(s)\n",
      "    Print a string 's' and tell how many characters it has\n",
      "\n"
     ]
    }
   ],
   "source": [
    "# Print first the help of the function\n",
    "# complete here\n",
    "help(func)"
   ]
  },
  {
   "cell_type": "code",
   "execution_count": 100,
   "metadata": {},
   "outputs": [
    {
     "name": "stdout",
     "output_type": "stream",
     "text": [
      "Test has 4 characters\n"
     ]
    }
   ],
   "source": [
    "# Use the function func(s), pass string 'Test'\n",
    "\n",
    "# complete here\n",
    "func(\"Test\")"
   ]
  },
  {
   "cell_type": "code",
   "execution_count": 5,
   "metadata": {},
   "outputs": [],
   "source": [
    "# Create function square, which takes numerical value and returns square value of the input\n",
    "\n",
    "# complete here\n",
    "def square(n):\n",
    "    return n**2"
   ]
  },
  {
   "cell_type": "code",
   "execution_count": 8,
   "metadata": {},
   "outputs": [
    {
     "data": {
      "text/plain": [
       "25"
      ]
     },
     "execution_count": 8,
     "metadata": {},
     "output_type": "execute_result"
    }
   ],
   "source": [
    "# Use the function square, pass number 5 and print it\n",
    "\n",
    "# complete here\n",
    "square(5)"
   ]
  },
  {
   "cell_type": "code",
   "execution_count": 9,
   "metadata": {},
   "outputs": [],
   "source": [
    "# Create function powers with multiple return values\n",
    "# it shall return power of 2, 3, and 4\n",
    "\n",
    "# complete here\n",
    "def powers(n):\n",
    "    return n**2, n**3, n**4"
   ]
  },
  {
   "cell_type": "code",
   "execution_count": 12,
   "metadata": {},
   "outputs": [
    {
     "data": {
      "text/plain": [
       "(25, 125, 625)"
      ]
     },
     "execution_count": 12,
     "metadata": {},
     "output_type": "execute_result"
    }
   ],
   "source": [
    "# Use the function powers, pass number 5 \n",
    "\n",
    "# complete here\n",
    "powers(5)"
   ]
  },
  {
   "cell_type": "code",
   "execution_count": 15,
   "metadata": {},
   "outputs": [
    {
     "name": "stdout",
     "output_type": "stream",
     "text": [
      "25 : 125 : 625\n"
     ]
    }
   ],
   "source": [
    "# Unpack the power vlaues into variables x1, x2, and x3, print them separated by chartacter ':'\n",
    "\n",
    "# complete here\n",
    "x1,x2,x3 = powers(5)\n",
    "print(x1,':',x2,':',x3)"
   ]
  },
  {
   "cell_type": "code",
   "execution_count": 16,
   "metadata": {},
   "outputs": [],
   "source": [
    "# Create anonimate function with lambda, which returns power of 2 of the input number \n",
    "\n",
    "# complete here\n",
    "x = lambda a : a**2"
   ]
  },
  {
   "cell_type": "code",
   "execution_count": 19,
   "metadata": {},
   "outputs": [
    {
     "data": {
      "text/plain": [
       "25"
      ]
     },
     "execution_count": 19,
     "metadata": {},
     "output_type": "execute_result"
    }
   ],
   "source": [
    "# Use the function, pass in value 5 and print the result\n",
    "\n",
    "# complete here\n",
    "x(5)"
   ]
  },
  {
   "cell_type": "code",
   "execution_count": 23,
   "metadata": {},
   "outputs": [
    {
     "name": "stdout",
     "output_type": "stream",
     "text": [
      "[9, 4, 1, 0, 1, 4, 9]\n"
     ]
    }
   ],
   "source": [
    "# Create lambda function returning power of 2 for input of range(-3, 4) \n",
    "# use map to pass range falue to lambda, print the values, you can use e.g. list  \n",
    "\n",
    "x = lambda a : a**2\n",
    "y = list(map(x, range(-3, 4)))\n",
    "print(y)"
   ]
  },
  {
   "cell_type": "code",
   "execution_count": 24,
   "metadata": {},
   "outputs": [
    {
     "name": "stdout",
     "output_type": "stream",
     "text": [
      "9\n",
      "4\n",
      "1\n",
      "0\n",
      "1\n",
      "4\n",
      "9\n"
     ]
    }
   ],
   "source": [
    "# Print the values of the above map function in a loop \n",
    "for i in y:\n",
    "    print(i)"
   ]
  },
  {
   "cell_type": "code",
   "execution_count": 94,
   "metadata": {},
   "outputs": [],
   "source": [
    "#------------------------------------------------------------------------------------------------------------------#"
   ]
  },
  {
   "cell_type": "markdown",
   "metadata": {},
   "source": [
    "### Classes"
   ]
  },
  {
   "cell_type": "code",
   "execution_count": 31,
   "metadata": {},
   "outputs": [],
   "source": [
    "# Crete Python class Point initiated with two numerical values x and y \n",
    "# add method translate, which adds values of dx and dy to the internal class values of x and y \n",
    "# add also __str__ method printing string: \"Point at x, y\"\n",
    "\n",
    "# complete here\n",
    "class Point:\n",
    "    def __init__(self, x, y):\n",
    "        self.x = float(x)\n",
    "        self.y = float(y)\n",
    "        \n",
    "    def translate(self, dx, dy):\n",
    "        self.x = dx\n",
    "        self.y = dy\n",
    "        \n",
    "    def __str__(self):\n",
    "        return f\"Point at {self.x}, {self.y}\""
   ]
  },
  {
   "cell_type": "code",
   "execution_count": 32,
   "metadata": {},
   "outputs": [
    {
     "name": "stdout",
     "output_type": "stream",
     "text": [
      "Point at 1.0, 1.0\n"
     ]
    }
   ],
   "source": [
    "# Create an instance of class Point, initiated with values of 1, 1\n",
    "# prin the point \n",
    "\n",
    "# complete here\n",
    "p1 = Point(1,1)\n",
    "print(p1)"
   ]
  },
  {
   "cell_type": "code",
   "execution_count": 33,
   "metadata": {},
   "outputs": [
    {
     "name": "stdout",
     "output_type": "stream",
     "text": [
      "Point at 0.25, 1.5\n"
     ]
    }
   ],
   "source": [
    "# Update the values of point p1 with 0.25 of x and 1.5 of y \n",
    "# use your method translate\n",
    "\n",
    "# complete here\n",
    "p1.translate(0.25,1.5)\n",
    "\n",
    "print(p1)"
   ]
  },
  {
   "cell_type": "code",
   "execution_count": 45,
   "metadata": {},
   "outputs": [],
   "source": [
    "# Create class Point2, whcih inherits from class Point and extend the functionality for method vector \n",
    "# which returns the size of the vector of the point from origin \n",
    "# complete here \n",
    "\n",
    "import math \n",
    "\n",
    "class Point2(Point): \n",
    "    def __init__(self, x, y):\n",
    "        super().__init__(x, y)\n",
    "        self.org_x = 0\n",
    "        self.org_y = 0\n",
    "        self.size = 2\n",
    "    def vector(self):\n",
    "        self.size = ((self.org_x - self.x)**2 + (self.org_y - self.y)**2)**0.5\n",
    "        return self.size"
   ]
  },
  {
   "cell_type": "code",
   "execution_count": 47,
   "metadata": {},
   "outputs": [
    {
     "name": "stdout",
     "output_type": "stream",
     "text": [
      "Point at 2.0, 2.0\n",
      "Vector size: 2.8284271247461903\n"
     ]
    }
   ],
   "source": [
    "# Test your extended class Point2, intitate it with values of 2, 2 \n",
    "# prin the size of the vector \n",
    "\n",
    "# complete here\n",
    "p2 = Point2(2,2)\n",
    "print(p2)\n",
    "p2.vector()\n",
    "print(f\"Vector size: {p2.size}\")"
   ]
  },
  {
   "cell_type": "markdown",
   "metadata": {},
   "source": [
    "### Exceptions"
   ]
  },
  {
   "cell_type": "code",
   "execution_count": 50,
   "metadata": {},
   "outputs": [
    {
     "name": "stdout",
     "output_type": "stream",
     "text": [
      "Caught an expection\n"
     ]
    }
   ],
   "source": [
    "# Create an exception statement for printing test1\n",
    "# you try to print the result of the test1, which doesnt exist at the current state and you capture exception, \n",
    "# which prints this string: 'Caught an exception on test1'\n",
    "\n",
    "# complete here\n",
    "try:\n",
    "    print(test1)\n",
    "except:\n",
    "    print(\"Caught an expection\")"
   ]
  },
  {
   "cell_type": "code",
   "execution_count": 52,
   "metadata": {},
   "outputs": [
    {
     "name": "stdout",
     "output_type": "stream",
     "text": [
      "Caught an expection: name 'test1' is not defined\n"
     ]
    }
   ],
   "source": [
    "# extend the above exeption statement for the type of the exception, \n",
    "# print it in the exception clause: \"Caught an exception: name 'test1' is not defined\"\n",
    "\n",
    "# complete here\n",
    "try:\n",
    "    print(test1)\n",
    "except Exception as e:\n",
    "    print(f\"Caught an expection: {e}\")"
   ]
  }
 ],
 "metadata": {
  "kernelspec": {
   "display_name": "Python 3 (ipykernel)",
   "language": "python",
   "name": "python3"
  },
  "language_info": {
   "codemirror_mode": {
    "name": "ipython",
    "version": 3
   },
   "file_extension": ".py",
   "mimetype": "text/x-python",
   "name": "python",
   "nbconvert_exporter": "python",
   "pygments_lexer": "ipython3",
   "version": "3.11.2"
  }
 },
 "nbformat": 4,
 "nbformat_minor": 1
}
